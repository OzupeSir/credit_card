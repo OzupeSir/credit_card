{
 "cells": [
  {
   "cell_type": "markdown",
   "metadata": {},
   "source": [
    "信用风险计量体系包括主体评级模型和债项评级两部分。主体评级和债项评级均有一系列评级模型组成，其中：\n",
    "\n",
    "    主体评级模型可用「四张卡」来表示，分别是 A 卡、B 卡、C 卡和 F 卡；\n",
    "    \n",
    "    债项评级模型通常按照主体的融资用途，分为企业融资模型、现金流融资模型和项目融资模型等。"
   ]
  },
  {
   "cell_type": "markdown",
   "metadata": {},
   "source": [
    "- A 卡：又称为申请者评级模型，主要应用于相关融资类业务中新用户的主体评级，适用于个人和机构融资主体。\n",
    "- B 卡：又称为行为评级模型，主要应用于相关融资类业务中存量客户在续存期内的管理，如对客户可能出现的逾期、延期等行为进行预测，仅适用于个人融资主体。\n",
    "- C 卡：又称为催收评级模型，主要应用于相关融资类业务中存量客户是否需要催收的预测管理，仅适用于个人融资主体。\n",
    "- F 卡：又称为欺诈评级模型，主要应用于相关融资类业务中新客户可能存在的欺诈行为的预测管理，适用于个人和机构融资主体。\n",
    "\n",
    "本次项目主要为申请者评分模型的开发过程。"
   ]
  },
  {
   "cell_type": "code",
   "execution_count": 1,
   "metadata": {},
   "outputs": [],
   "source": [
    "import pandas as pd\n",
    "import numpy as np "
   ]
  },
  {
   "cell_type": "markdown",
   "metadata": {},
   "source": [
    "## 定义观察时间窗口"
   ]
  },
  {
   "cell_type": "code",
   "execution_count": 2,
   "metadata": {},
   "outputs": [],
   "source": [
    "#导入用户逾期的详情表\n",
    "sample_window=pd.read_csv(\"./data/CreditSampleWindow.csv\",encoding='utf8')"
   ]
  },
  {
   "cell_type": "code",
   "execution_count": 3,
   "metadata": {},
   "outputs": [
    {
     "name": "stdout",
     "output_type": "stream",
     "text": [
      "['CID' 'STAGE_BEF' 'STAGE_AFT' 'START_DATE' 'CLOSE_DATE']\n"
     ]
    }
   ],
   "source": [
    "print(sample_window.columns.values)"
   ]
  },
  {
   "cell_type": "code",
   "execution_count": 4,
   "metadata": {},
   "outputs": [
    {
     "data": {
      "text/plain": [
       "(1813157, 5)"
      ]
     },
     "execution_count": 4,
     "metadata": {},
     "output_type": "execute_result"
    }
   ],
   "source": [
    "sample_window.shape"
   ]
  },
  {
   "cell_type": "code",
   "execution_count": 5,
   "metadata": {},
   "outputs": [
    {
     "name": "stdout",
     "output_type": "stream",
     "text": [
      "<class 'pandas.core.frame.DataFrame'>\n",
      "RangeIndex: 1813157 entries, 0 to 1813156\n",
      "Data columns (total 5 columns):\n",
      "CID           object\n",
      "STAGE_BEF     object\n",
      "STAGE_AFT     object\n",
      "START_DATE    float64\n",
      "CLOSE_DATE    float64\n",
      "dtypes: float64(2), object(3)\n",
      "memory usage: 69.2+ MB\n"
     ]
    }
   ],
   "source": [
    "sample_window.info()"
   ]
  },
  {
   "cell_type": "code",
   "execution_count": 6,
   "metadata": {},
   "outputs": [
    {
     "data": {
      "text/html": [
       "<div>\n",
       "<style scoped>\n",
       "    .dataframe tbody tr th:only-of-type {\n",
       "        vertical-align: middle;\n",
       "    }\n",
       "\n",
       "    .dataframe tbody tr th {\n",
       "        vertical-align: top;\n",
       "    }\n",
       "\n",
       "    .dataframe thead th {\n",
       "        text-align: right;\n",
       "    }\n",
       "</style>\n",
       "<table border=\"1\" class=\"dataframe\">\n",
       "  <thead>\n",
       "    <tr style=\"text-align: right;\">\n",
       "      <th></th>\n",
       "      <th>CID</th>\n",
       "      <th>STAGE_BEF</th>\n",
       "      <th>STAGE_AFT</th>\n",
       "      <th>START_DATE</th>\n",
       "      <th>CLOSE_DATE</th>\n",
       "    </tr>\n",
       "  </thead>\n",
       "  <tbody>\n",
       "    <tr>\n",
       "      <th>0</th>\n",
       "      <td>CID0128273</td>\n",
       "      <td></td>\n",
       "      <td>M0</td>\n",
       "      <td>20170701.0</td>\n",
       "      <td>20170703.0</td>\n",
       "    </tr>\n",
       "    <tr>\n",
       "      <th>1</th>\n",
       "      <td>CID0214787</td>\n",
       "      <td></td>\n",
       "      <td>M0</td>\n",
       "      <td>20180201.0</td>\n",
       "      <td>20180204.0</td>\n",
       "    </tr>\n",
       "    <tr>\n",
       "      <th>2</th>\n",
       "      <td>CID0287932</td>\n",
       "      <td>M4</td>\n",
       "      <td>M5</td>\n",
       "      <td>20180501.0</td>\n",
       "      <td>20180531.0</td>\n",
       "    </tr>\n",
       "    <tr>\n",
       "      <th>3</th>\n",
       "      <td>CID0351850</td>\n",
       "      <td></td>\n",
       "      <td>M0</td>\n",
       "      <td>20161002.0</td>\n",
       "      <td>20161005.0</td>\n",
       "    </tr>\n",
       "    <tr>\n",
       "      <th>4</th>\n",
       "      <td>CID0217310</td>\n",
       "      <td></td>\n",
       "      <td>M0</td>\n",
       "      <td>20150601.0</td>\n",
       "      <td>20150602.0</td>\n",
       "    </tr>\n",
       "  </tbody>\n",
       "</table>\n",
       "</div>"
      ],
      "text/plain": [
       "          CID STAGE_BEF STAGE_AFT  START_DATE  CLOSE_DATE\n",
       "0  CID0128273                  M0  20170701.0  20170703.0\n",
       "1  CID0214787                  M0  20180201.0  20180204.0\n",
       "2  CID0287932        M4        M5  20180501.0  20180531.0\n",
       "3  CID0351850                  M0  20161002.0  20161005.0\n",
       "4  CID0217310                  M0  20150601.0  20150602.0"
      ]
     },
     "execution_count": 6,
     "metadata": {},
     "output_type": "execute_result"
    }
   ],
   "source": [
    "sample_window.head(5)"
   ]
  },
  {
   "cell_type": "code",
   "execution_count": 7,
   "metadata": {},
   "outputs": [
    {
     "data": {
      "text/plain": [
       "CID           0.000000\n",
       "STAGE_BEF     0.082451\n",
       "STAGE_AFT     0.082451\n",
       "START_DATE    0.082451\n",
       "CLOSE_DATE    0.082451\n",
       "dtype: float64"
      ]
     },
     "execution_count": 7,
     "metadata": {},
     "output_type": "execute_result"
    }
   ],
   "source": [
    "# 查看缺失值情况\n",
    "sample_window.isnull().mean()"
   ]
  },
  {
   "cell_type": "code",
   "execution_count": 8,
   "metadata": {},
   "outputs": [],
   "source": [
    "#去除重复行\n",
    "sample_window.drop_duplicates(inplace=True)"
   ]
  },
  {
   "cell_type": "code",
   "execution_count": 9,
   "metadata": {},
   "outputs": [],
   "source": [
    "# 去除没有逾期阶段记录的信息\n",
    "sample_window.dropna(subset=['STAGE_BEF','STAGE_AFT'], inplace=True)"
   ]
  },
  {
   "cell_type": "code",
   "execution_count": 10,
   "metadata": {},
   "outputs": [
    {
     "data": {
      "text/plain": [
       "(1663660, 5)"
      ]
     },
     "execution_count": 10,
     "metadata": {},
     "output_type": "execute_result"
    }
   ],
   "source": [
    "sample_window.shape"
   ]
  },
  {
   "cell_type": "code",
   "execution_count": 11,
   "metadata": {},
   "outputs": [],
   "source": [
    "#取出每个用户，每个月份内的最高逾期记录作为该月份的逾期指标\n",
    "sample_window.START_DATE=sample_window.START_DATE.apply(lambda x : int(x//100))\n",
    "sample_window.CLOSE_DATE=sample_window.CLOSE_DATE.apply(lambda x : int(x//100))"
   ]
  },
  {
   "cell_type": "code",
   "execution_count": 12,
   "metadata": {},
   "outputs": [],
   "source": [
    "sample_window[\"AFT_FLAG\"] = sample_window.STAGE_AFT.apply(lambda x: int(x[-1]))"
   ]
  },
  {
   "cell_type": "code",
   "execution_count": 13,
   "metadata": {
    "scrolled": true
   },
   "outputs": [
    {
     "data": {
      "text/plain": [
       "201802     84631\n",
       "201803    114688\n",
       "201801     88972\n",
       "201804     89660\n",
       "201805     98699\n",
       "Name: START_DATE, dtype: int64"
      ]
     },
     "execution_count": 13,
     "metadata": {},
     "output_type": "execute_result"
    }
   ],
   "source": [
    "sample_window.START_DATE.value_counts(sort=False,dropna=False).head()"
   ]
  },
  {
   "cell_type": "code",
   "execution_count": 14,
   "metadata": {
    "scrolled": true
   },
   "outputs": [
    {
     "data": {
      "text/plain": [
       "0          28364\n",
       "201802     82058\n",
       "201803    113132\n",
       "201801     86811\n",
       "201804     87754\n",
       "Name: CLOSE_DATE, dtype: int64"
      ]
     },
     "execution_count": 14,
     "metadata": {},
     "output_type": "execute_result"
    }
   ],
   "source": [
    "sample_window.CLOSE_DATE.value_counts(sort=False,dropna=False).head()"
   ]
  },
  {
   "cell_type": "code",
   "execution_count": 15,
   "metadata": {},
   "outputs": [],
   "source": [
    "# 将 CLOSE_DATE 为空的数据填补为 201805。（根据数据缺失的业务背景确定）\n",
    "sample_window.loc[sample_window.CLOSE_DATE == 0,\"CLOSE_DATE\"] = 201805"
   ]
  },
  {
   "cell_type": "code",
   "execution_count": 16,
   "metadata": {},
   "outputs": [
    {
     "data": {
      "text/html": [
       "<div>\n",
       "<style scoped>\n",
       "    .dataframe tbody tr th:only-of-type {\n",
       "        vertical-align: middle;\n",
       "    }\n",
       "\n",
       "    .dataframe tbody tr th {\n",
       "        vertical-align: top;\n",
       "    }\n",
       "\n",
       "    .dataframe thead th {\n",
       "        text-align: right;\n",
       "    }\n",
       "</style>\n",
       "<table border=\"1\" class=\"dataframe\">\n",
       "  <thead>\n",
       "    <tr style=\"text-align: right;\">\n",
       "      <th></th>\n",
       "      <th>CID</th>\n",
       "      <th>STAGE_BEF</th>\n",
       "      <th>STAGE_AFT</th>\n",
       "      <th>START_DATE</th>\n",
       "      <th>CLOSE_DATE</th>\n",
       "      <th>AFT_FLAG</th>\n",
       "    </tr>\n",
       "  </thead>\n",
       "  <tbody>\n",
       "    <tr>\n",
       "      <th>0</th>\n",
       "      <td>CID0128273</td>\n",
       "      <td></td>\n",
       "      <td>M0</td>\n",
       "      <td>201707</td>\n",
       "      <td>201707</td>\n",
       "      <td>0</td>\n",
       "    </tr>\n",
       "    <tr>\n",
       "      <th>1</th>\n",
       "      <td>CID0214787</td>\n",
       "      <td></td>\n",
       "      <td>M0</td>\n",
       "      <td>201802</td>\n",
       "      <td>201802</td>\n",
       "      <td>0</td>\n",
       "    </tr>\n",
       "    <tr>\n",
       "      <th>2</th>\n",
       "      <td>CID0287932</td>\n",
       "      <td>M4</td>\n",
       "      <td>M5</td>\n",
       "      <td>201805</td>\n",
       "      <td>201805</td>\n",
       "      <td>5</td>\n",
       "    </tr>\n",
       "    <tr>\n",
       "      <th>3</th>\n",
       "      <td>CID0351850</td>\n",
       "      <td></td>\n",
       "      <td>M0</td>\n",
       "      <td>201610</td>\n",
       "      <td>201610</td>\n",
       "      <td>0</td>\n",
       "    </tr>\n",
       "    <tr>\n",
       "      <th>4</th>\n",
       "      <td>CID0217310</td>\n",
       "      <td></td>\n",
       "      <td>M0</td>\n",
       "      <td>201506</td>\n",
       "      <td>201506</td>\n",
       "      <td>0</td>\n",
       "    </tr>\n",
       "  </tbody>\n",
       "</table>\n",
       "</div>"
      ],
      "text/plain": [
       "          CID STAGE_BEF STAGE_AFT  START_DATE  CLOSE_DATE  AFT_FLAG\n",
       "0  CID0128273                  M0      201707      201707         0\n",
       "1  CID0214787                  M0      201802      201802         0\n",
       "2  CID0287932        M4        M5      201805      201805         5\n",
       "3  CID0351850                  M0      201610      201610         0\n",
       "4  CID0217310                  M0      201506      201506         0"
      ]
     },
     "execution_count": 16,
     "metadata": {},
     "output_type": "execute_result"
    }
   ],
   "source": [
    "sample_window.head()"
   ]
  },
  {
   "cell_type": "code",
   "execution_count": 17,
   "metadata": {},
   "outputs": [],
   "source": [
    "#生成单个订单的流水\n",
    "#ID、月份、月份对应的状态\n",
    "overdue=sample_window.loc[:,[\"CID\",'START_DATE','AFT_FLAG']]\\\n",
    "                .rename(columns={'START_DATE':'CLOSE_DATE'})\\\n",
    "                .append(sample_window.loc[:,[\"CID\",'CLOSE_DATE','AFT_FLAG']],ignore_index=True)"
   ]
  },
  {
   "cell_type": "code",
   "execution_count": 18,
   "metadata": {
    "scrolled": true
   },
   "outputs": [],
   "source": [
    "#生成每个用户的逾期信息\n",
    "overdue = overdue.pivot_table(columns='CLOSE_DATE',index='CID',values='AFT_FLAG',aggfunc='max')"
   ]
  },
  {
   "cell_type": "markdown",
   "metadata": {},
   "source": [
    "- 构建转移概率矩阵"
   ]
  },
  {
   "cell_type": "code",
   "execution_count": 19,
   "metadata": {
    "scrolled": true
   },
   "outputs": [
    {
     "data": {
      "text/plain": [
       "0    1107267\n",
       "1     373910\n",
       "2      40034\n",
       "3      30199\n",
       "4      25442\n",
       "5      20923\n",
       "6      20575\n",
       "7      18326\n",
       "8      14387\n",
       "9      12597\n",
       "Name: AFT_FLAG, dtype: int64"
      ]
     },
     "execution_count": 19,
     "metadata": {},
     "output_type": "execute_result"
    }
   ],
   "source": [
    "sample_window.AFT_FLAG.value_counts()"
   ]
  },
  {
   "cell_type": "code",
   "execution_count": 20,
   "metadata": {},
   "outputs": [
    {
     "data": {
      "text/html": [
       "<div>\n",
       "<style scoped>\n",
       "    .dataframe tbody tr th:only-of-type {\n",
       "        vertical-align: middle;\n",
       "    }\n",
       "\n",
       "    .dataframe tbody tr th {\n",
       "        vertical-align: top;\n",
       "    }\n",
       "\n",
       "    .dataframe thead th {\n",
       "        text-align: right;\n",
       "    }\n",
       "</style>\n",
       "<table border=\"1\" class=\"dataframe\">\n",
       "  <thead>\n",
       "    <tr style=\"text-align: right;\">\n",
       "      <th></th>\n",
       "      <th>0</th>\n",
       "      <th>1</th>\n",
       "      <th>2</th>\n",
       "      <th>3</th>\n",
       "      <th>4</th>\n",
       "      <th>5</th>\n",
       "      <th>6</th>\n",
       "      <th>7</th>\n",
       "      <th>8</th>\n",
       "      <th>9</th>\n",
       "      <th>all_count</th>\n",
       "      <th>bad_count</th>\n",
       "      <th>to_bad</th>\n",
       "    </tr>\n",
       "  </thead>\n",
       "  <tbody>\n",
       "    <tr>\n",
       "      <th>0</th>\n",
       "      <td>218269</td>\n",
       "      <td>78639</td>\n",
       "      <td>3232</td>\n",
       "      <td>0</td>\n",
       "      <td>0</td>\n",
       "      <td>0</td>\n",
       "      <td>0</td>\n",
       "      <td>0</td>\n",
       "      <td>2</td>\n",
       "      <td>2</td>\n",
       "      <td>300144</td>\n",
       "      <td>81875</td>\n",
       "      <td>0.272786</td>\n",
       "    </tr>\n",
       "    <tr>\n",
       "      <th>1</th>\n",
       "      <td>59218</td>\n",
       "      <td>169811</td>\n",
       "      <td>20351</td>\n",
       "      <td>9020</td>\n",
       "      <td>0</td>\n",
       "      <td>16</td>\n",
       "      <td>8</td>\n",
       "      <td>8</td>\n",
       "      <td>2</td>\n",
       "      <td>6</td>\n",
       "      <td>258440</td>\n",
       "      <td>29411</td>\n",
       "      <td>0.113802</td>\n",
       "    </tr>\n",
       "    <tr>\n",
       "      <th>2</th>\n",
       "      <td>556</td>\n",
       "      <td>4061</td>\n",
       "      <td>3775</td>\n",
       "      <td>17287</td>\n",
       "      <td>7</td>\n",
       "      <td>0</td>\n",
       "      <td>0</td>\n",
       "      <td>0</td>\n",
       "      <td>0</td>\n",
       "      <td>0</td>\n",
       "      <td>25686</td>\n",
       "      <td>17294</td>\n",
       "      <td>0.673285</td>\n",
       "    </tr>\n",
       "    <tr>\n",
       "      <th>3</th>\n",
       "      <td>184</td>\n",
       "      <td>1233</td>\n",
       "      <td>586</td>\n",
       "      <td>1686</td>\n",
       "      <td>22226</td>\n",
       "      <td>446</td>\n",
       "      <td>0</td>\n",
       "      <td>0</td>\n",
       "      <td>0</td>\n",
       "      <td>2</td>\n",
       "      <td>26363</td>\n",
       "      <td>22674</td>\n",
       "      <td>0.860069</td>\n",
       "    </tr>\n",
       "    <tr>\n",
       "      <th>4</th>\n",
       "      <td>1</td>\n",
       "      <td>20</td>\n",
       "      <td>5</td>\n",
       "      <td>0</td>\n",
       "      <td>233</td>\n",
       "      <td>13634</td>\n",
       "      <td>2803</td>\n",
       "      <td>8</td>\n",
       "      <td>0</td>\n",
       "      <td>0</td>\n",
       "      <td>16704</td>\n",
       "      <td>16445</td>\n",
       "      <td>0.984495</td>\n",
       "    </tr>\n",
       "    <tr>\n",
       "      <th>5</th>\n",
       "      <td>0</td>\n",
       "      <td>2</td>\n",
       "      <td>2</td>\n",
       "      <td>0</td>\n",
       "      <td>0</td>\n",
       "      <td>211</td>\n",
       "      <td>14936</td>\n",
       "      <td>911</td>\n",
       "      <td>0</td>\n",
       "      <td>0</td>\n",
       "      <td>16062</td>\n",
       "      <td>15847</td>\n",
       "      <td>0.986614</td>\n",
       "    </tr>\n",
       "    <tr>\n",
       "      <th>6</th>\n",
       "      <td>0</td>\n",
       "      <td>0</td>\n",
       "      <td>0</td>\n",
       "      <td>2</td>\n",
       "      <td>0</td>\n",
       "      <td>0</td>\n",
       "      <td>179</td>\n",
       "      <td>17223</td>\n",
       "      <td>9</td>\n",
       "      <td>8</td>\n",
       "      <td>17421</td>\n",
       "      <td>17240</td>\n",
       "      <td>0.989610</td>\n",
       "    </tr>\n",
       "    <tr>\n",
       "      <th>7</th>\n",
       "      <td>0</td>\n",
       "      <td>8</td>\n",
       "      <td>0</td>\n",
       "      <td>0</td>\n",
       "      <td>8</td>\n",
       "      <td>0</td>\n",
       "      <td>8</td>\n",
       "      <td>1292</td>\n",
       "      <td>14262</td>\n",
       "      <td>4</td>\n",
       "      <td>15582</td>\n",
       "      <td>14266</td>\n",
       "      <td>0.915544</td>\n",
       "    </tr>\n",
       "    <tr>\n",
       "      <th>8</th>\n",
       "      <td>2</td>\n",
       "      <td>2</td>\n",
       "      <td>0</td>\n",
       "      <td>0</td>\n",
       "      <td>0</td>\n",
       "      <td>0</td>\n",
       "      <td>2</td>\n",
       "      <td>4</td>\n",
       "      <td>98</td>\n",
       "      <td>12527</td>\n",
       "      <td>12635</td>\n",
       "      <td>12527</td>\n",
       "      <td>0.991452</td>\n",
       "    </tr>\n",
       "    <tr>\n",
       "      <th>9</th>\n",
       "      <td>0</td>\n",
       "      <td>10</td>\n",
       "      <td>2</td>\n",
       "      <td>4</td>\n",
       "      <td>0</td>\n",
       "      <td>4</td>\n",
       "      <td>8</td>\n",
       "      <td>12</td>\n",
       "      <td>22</td>\n",
       "      <td>247</td>\n",
       "      <td>309</td>\n",
       "      <td>0</td>\n",
       "      <td>0.000000</td>\n",
       "    </tr>\n",
       "  </tbody>\n",
       "</table>\n",
       "</div>"
      ],
      "text/plain": [
       "        0       1      2      3      4      5      6      7      8      9  \\\n",
       "0  218269   78639   3232      0      0      0      0      0      2      2   \n",
       "1   59218  169811  20351   9020      0     16      8      8      2      6   \n",
       "2     556    4061   3775  17287      7      0      0      0      0      0   \n",
       "3     184    1233    586   1686  22226    446      0      0      0      2   \n",
       "4       1      20      5      0    233  13634   2803      8      0      0   \n",
       "5       0       2      2      0      0    211  14936    911      0      0   \n",
       "6       0       0      0      2      0      0    179  17223      9      8   \n",
       "7       0       8      0      0      8      0      8   1292  14262      4   \n",
       "8       2       2      0      0      0      0      2      4     98  12527   \n",
       "9       0      10      2      4      0      4      8     12     22    247   \n",
       "\n",
       "   all_count  bad_count    to_bad  \n",
       "0     300144      81875  0.272786  \n",
       "1     258440      29411  0.113802  \n",
       "2      25686      17294  0.673285  \n",
       "3      26363      22674  0.860069  \n",
       "4      16704      16445  0.984495  \n",
       "5      16062      15847  0.986614  \n",
       "6      17421      17240  0.989610  \n",
       "7      15582      14266  0.915544  \n",
       "8      12635      12527  0.991452  \n",
       "9        309          0  0.000000  "
      ]
     },
     "execution_count": 20,
     "metadata": {},
     "output_type": "execute_result"
    }
   ],
   "source": [
    "import collections     #导入包准备做计数字典\n",
    "\n",
    "def get_mat(df):\n",
    "    \"\"\"\n",
    "    构建转移矩阵，索引表示转移前的逾期状态，\n",
    "    列名表示转移后的逾期状态。\n",
    "    \"\"\"\n",
    "    trans_mat = pd.DataFrame(data=0,\n",
    "                             columns=range(0,10),\n",
    "                             index=range(0,10))\n",
    "    counter = collections.Counter()               # 形成字典来进行计数，关键字是坐标形成的元祖，值为频数\n",
    "    for i,j in zip(df.columns,df.columns[1:]):\n",
    "        select = (df[i].notnull()) & (df[j].notnull())\n",
    "        counter += collections.Counter(tuple(x) for x in df.loc[select, [i,j]].values)\n",
    "        \n",
    "    for key in counter.keys():\n",
    "        trans_mat.loc[key[0],key[1]] = counter[key]\n",
    "        \n",
    "    trans_mat[\"all_count\"] = trans_mat.apply(sum, axis=1)\n",
    "    bad_count = []\n",
    "    for j in range(10):\n",
    "        bad_count.append(trans_mat.iloc[j,j+1:10].sum())\n",
    "    trans_mat[\"bad_count\"] = bad_count\n",
    "    trans_mat[\"to_bad\"] = trans_mat[\"bad_count\"]/trans_mat[\"all_count\"]\n",
    "    return trans_mat\n",
    "get_mat(overdue)"
   ]
  },
  {
   "cell_type": "markdown",
   "metadata": {},
   "source": [
    "由上表可知，在逾期阶段到了 M2 时，下一阶段继续转坏的概率达到了 67%，逾期阶段到达 M3 阶段时，下一阶段继续转坏的概率为 86%，暂定M2为时间窗口表现内容。"
   ]
  },
  {
   "cell_type": "markdown",
   "metadata": {},
   "source": [
    "## 定义表现时间窗口"
   ]
  },
  {
   "cell_type": "code",
   "execution_count": 21,
   "metadata": {},
   "outputs": [],
   "source": [
    "#收集是否触发变坏样本，所定义的时间窗口"
   ]
  },
  {
   "cell_type": "code",
   "execution_count": 22,
   "metadata": {},
   "outputs": [],
   "source": [
    "#读取订单首次的日期信息表\n",
    "first_use=pd.read_csv(\"./data/CreditFirstUse.csv\",encoding='utf8')"
   ]
  },
  {
   "cell_type": "code",
   "execution_count": 23,
   "metadata": {},
   "outputs": [
    {
     "data": {
      "text/html": [
       "<div>\n",
       "<style scoped>\n",
       "    .dataframe tbody tr th:only-of-type {\n",
       "        vertical-align: middle;\n",
       "    }\n",
       "\n",
       "    .dataframe tbody tr th {\n",
       "        vertical-align: top;\n",
       "    }\n",
       "\n",
       "    .dataframe thead th {\n",
       "        text-align: right;\n",
       "    }\n",
       "</style>\n",
       "<table border=\"1\" class=\"dataframe\">\n",
       "  <thead>\n",
       "    <tr style=\"text-align: right;\">\n",
       "      <th></th>\n",
       "      <th>CID</th>\n",
       "      <th>FST_USE_DT</th>\n",
       "    </tr>\n",
       "  </thead>\n",
       "  <tbody>\n",
       "    <tr>\n",
       "      <th>0</th>\n",
       "      <td>CID0092102</td>\n",
       "      <td>20161116</td>\n",
       "    </tr>\n",
       "    <tr>\n",
       "      <th>1</th>\n",
       "      <td>CID0111878</td>\n",
       "      <td>20161118</td>\n",
       "    </tr>\n",
       "    <tr>\n",
       "      <th>2</th>\n",
       "      <td>CID0264977</td>\n",
       "      <td>20161120</td>\n",
       "    </tr>\n",
       "    <tr>\n",
       "      <th>3</th>\n",
       "      <td>CID0059996</td>\n",
       "      <td>20160907</td>\n",
       "    </tr>\n",
       "    <tr>\n",
       "      <th>4</th>\n",
       "      <td>CID0057096</td>\n",
       "      <td>20160910</td>\n",
       "    </tr>\n",
       "  </tbody>\n",
       "</table>\n",
       "</div>"
      ],
      "text/plain": [
       "          CID  FST_USE_DT\n",
       "0  CID0092102    20161116\n",
       "1  CID0111878    20161118\n",
       "2  CID0264977    20161120\n",
       "3  CID0059996    20160907\n",
       "4  CID0057096    20160910"
      ]
     },
     "execution_count": 23,
     "metadata": {},
     "output_type": "execute_result"
    }
   ],
   "source": [
    "first_use.head()"
   ]
  },
  {
   "cell_type": "code",
   "execution_count": 24,
   "metadata": {},
   "outputs": [],
   "source": [
    "first_use.set_index('CID',inplace=True)"
   ]
  },
  {
   "cell_type": "code",
   "execution_count": 25,
   "metadata": {},
   "outputs": [],
   "source": [
    "first_use[\"FST_USE_MONTH\"] = first_use.FST_USE_DT.map(lambda x:x//100)"
   ]
  },
  {
   "cell_type": "code",
   "execution_count": 26,
   "metadata": {
    "scrolled": false
   },
   "outputs": [
    {
     "data": {
      "text/html": [
       "<div>\n",
       "<style scoped>\n",
       "    .dataframe tbody tr th:only-of-type {\n",
       "        vertical-align: middle;\n",
       "    }\n",
       "\n",
       "    .dataframe tbody tr th {\n",
       "        vertical-align: top;\n",
       "    }\n",
       "\n",
       "    .dataframe thead th {\n",
       "        text-align: right;\n",
       "    }\n",
       "</style>\n",
       "<table border=\"1\" class=\"dataframe\">\n",
       "  <thead>\n",
       "    <tr style=\"text-align: right;\">\n",
       "      <th></th>\n",
       "      <th>FST_USE_DT</th>\n",
       "      <th>FST_USE_MONTH</th>\n",
       "    </tr>\n",
       "    <tr>\n",
       "      <th>CID</th>\n",
       "      <th></th>\n",
       "      <th></th>\n",
       "    </tr>\n",
       "  </thead>\n",
       "  <tbody>\n",
       "    <tr>\n",
       "      <th>CID0092102</th>\n",
       "      <td>20161116</td>\n",
       "      <td>201611</td>\n",
       "    </tr>\n",
       "    <tr>\n",
       "      <th>CID0111878</th>\n",
       "      <td>20161118</td>\n",
       "      <td>201611</td>\n",
       "    </tr>\n",
       "    <tr>\n",
       "      <th>CID0264977</th>\n",
       "      <td>20161120</td>\n",
       "      <td>201611</td>\n",
       "    </tr>\n",
       "    <tr>\n",
       "      <th>CID0059996</th>\n",
       "      <td>20160907</td>\n",
       "      <td>201609</td>\n",
       "    </tr>\n",
       "    <tr>\n",
       "      <th>CID0057096</th>\n",
       "      <td>20160910</td>\n",
       "      <td>201609</td>\n",
       "    </tr>\n",
       "  </tbody>\n",
       "</table>\n",
       "</div>"
      ],
      "text/plain": [
       "            FST_USE_DT  FST_USE_MONTH\n",
       "CID                                  \n",
       "CID0092102    20161116         201611\n",
       "CID0111878    20161118         201611\n",
       "CID0264977    20161120         201611\n",
       "CID0059996    20160907         201609\n",
       "CID0057096    20160910         201609"
      ]
     },
     "execution_count": 26,
     "metadata": {},
     "output_type": "execute_result"
    }
   ],
   "source": [
    "first_use.head()"
   ]
  },
  {
   "cell_type": "code",
   "execution_count": 27,
   "metadata": {},
   "outputs": [],
   "source": [
    "# 计算每笔订单第一次出现逾期的月份索引位置\n",
    "def get_first_overdue(ser):\n",
    "    array = np.where(ser>= 2)[0]\n",
    "    if array.size > 0:\n",
    "        return array[0]\n",
    "    else:\n",
    "        return np.nan"
   ]
  },
  {
   "cell_type": "code",
   "execution_count": 28,
   "metadata": {},
   "outputs": [],
   "source": [
    "OVERDUE_INDEX = overdue.apply(get_first_overdue,axis=1)"
   ]
  },
  {
   "cell_type": "code",
   "execution_count": 29,
   "metadata": {},
   "outputs": [],
   "source": [
    "first_use[\"OVERDUE_INDEX\"] = OVERDUE_INDEX"
   ]
  },
  {
   "cell_type": "code",
   "execution_count": 30,
   "metadata": {},
   "outputs": [],
   "source": [
    "first_use[\"START_INDEX\"] = first_use.FST_USE_MONTH.map({k:v for v,k in enumerate(overdue.columns)}) \n",
    "# 为了和overdue_index表示记录上的一致性，将月份转换为数字记录的形式（字典映射）"
   ]
  },
  {
   "cell_type": "code",
   "execution_count": 31,
   "metadata": {},
   "outputs": [
    {
     "data": {
      "text/html": [
       "<div>\n",
       "<style scoped>\n",
       "    .dataframe tbody tr th:only-of-type {\n",
       "        vertical-align: middle;\n",
       "    }\n",
       "\n",
       "    .dataframe tbody tr th {\n",
       "        vertical-align: top;\n",
       "    }\n",
       "\n",
       "    .dataframe thead th {\n",
       "        text-align: right;\n",
       "    }\n",
       "</style>\n",
       "<table border=\"1\" class=\"dataframe\">\n",
       "  <thead>\n",
       "    <tr style=\"text-align: right;\">\n",
       "      <th></th>\n",
       "      <th>FST_USE_DT</th>\n",
       "      <th>FST_USE_MONTH</th>\n",
       "      <th>OVERDUE_INDEX</th>\n",
       "      <th>START_INDEX</th>\n",
       "    </tr>\n",
       "    <tr>\n",
       "      <th>CID</th>\n",
       "      <th></th>\n",
       "      <th></th>\n",
       "      <th></th>\n",
       "      <th></th>\n",
       "    </tr>\n",
       "  </thead>\n",
       "  <tbody>\n",
       "    <tr>\n",
       "      <th>CID0082006</th>\n",
       "      <td>20160906</td>\n",
       "      <td>201609</td>\n",
       "      <td>26.0</td>\n",
       "      <td>18.0</td>\n",
       "    </tr>\n",
       "    <tr>\n",
       "      <th>CID0383647</th>\n",
       "      <td>20160906</td>\n",
       "      <td>201609</td>\n",
       "      <td>29.0</td>\n",
       "      <td>18.0</td>\n",
       "    </tr>\n",
       "    <tr>\n",
       "      <th>CID0006192</th>\n",
       "      <td>20161022</td>\n",
       "      <td>201610</td>\n",
       "      <td>28.0</td>\n",
       "      <td>19.0</td>\n",
       "    </tr>\n",
       "    <tr>\n",
       "      <th>CID0348120</th>\n",
       "      <td>20161122</td>\n",
       "      <td>201611</td>\n",
       "      <td>33.0</td>\n",
       "      <td>20.0</td>\n",
       "    </tr>\n",
       "    <tr>\n",
       "      <th>CID0155834</th>\n",
       "      <td>20161123</td>\n",
       "      <td>201611</td>\n",
       "      <td>28.0</td>\n",
       "      <td>20.0</td>\n",
       "    </tr>\n",
       "  </tbody>\n",
       "</table>\n",
       "</div>"
      ],
      "text/plain": [
       "            FST_USE_DT  FST_USE_MONTH  OVERDUE_INDEX  START_INDEX\n",
       "CID                                                              \n",
       "CID0082006    20160906         201609           26.0         18.0\n",
       "CID0383647    20160906         201609           29.0         18.0\n",
       "CID0006192    20161022         201610           28.0         19.0\n",
       "CID0348120    20161122         201611           33.0         20.0\n",
       "CID0155834    20161123         201611           28.0         20.0"
      ]
     },
     "execution_count": 31,
     "metadata": {},
     "output_type": "execute_result"
    }
   ],
   "source": [
    "first_use.loc[first_use.OVERDUE_INDEX.notnull()].head()"
   ]
  },
  {
   "cell_type": "code",
   "execution_count": 32,
   "metadata": {},
   "outputs": [
    {
     "data": {
      "text/html": [
       "<div>\n",
       "<style scoped>\n",
       "    .dataframe tbody tr th:only-of-type {\n",
       "        vertical-align: middle;\n",
       "    }\n",
       "\n",
       "    .dataframe tbody tr th {\n",
       "        vertical-align: top;\n",
       "    }\n",
       "\n",
       "    .dataframe thead th {\n",
       "        text-align: right;\n",
       "    }\n",
       "</style>\n",
       "<table border=\"1\" class=\"dataframe\">\n",
       "  <thead>\n",
       "    <tr style=\"text-align: right;\">\n",
       "      <th></th>\n",
       "      <th>FST_USE_DT</th>\n",
       "      <th>FST_USE_MONTH</th>\n",
       "      <th>OVERDUE_INDEX</th>\n",
       "      <th>START_INDEX</th>\n",
       "    </tr>\n",
       "    <tr>\n",
       "      <th>CID</th>\n",
       "      <th></th>\n",
       "      <th></th>\n",
       "      <th></th>\n",
       "      <th></th>\n",
       "    </tr>\n",
       "  </thead>\n",
       "  <tbody>\n",
       "    <tr>\n",
       "      <th>CID0164451</th>\n",
       "      <td>20170722</td>\n",
       "      <td>201707</td>\n",
       "      <td>9.0</td>\n",
       "      <td>28.0</td>\n",
       "    </tr>\n",
       "  </tbody>\n",
       "</table>\n",
       "</div>"
      ],
      "text/plain": [
       "            FST_USE_DT  FST_USE_MONTH  OVERDUE_INDEX  START_INDEX\n",
       "CID                                                              \n",
       "CID0164451    20170722         201707            9.0         28.0"
      ]
     },
     "execution_count": 32,
     "metadata": {},
     "output_type": "execute_result"
    }
   ],
   "source": [
    "# 查看异常数据\n",
    "first_use[first_use.OVERDUE_INDEX < first_use.START_INDEX]"
   ]
  },
  {
   "cell_type": "code",
   "execution_count": 33,
   "metadata": {},
   "outputs": [
    {
     "data": {
      "text/html": [
       "<div>\n",
       "<style scoped>\n",
       "    .dataframe tbody tr th:only-of-type {\n",
       "        vertical-align: middle;\n",
       "    }\n",
       "\n",
       "    .dataframe tbody tr th {\n",
       "        vertical-align: top;\n",
       "    }\n",
       "\n",
       "    .dataframe thead th {\n",
       "        text-align: right;\n",
       "    }\n",
       "</style>\n",
       "<table border=\"1\" class=\"dataframe\">\n",
       "  <thead>\n",
       "    <tr style=\"text-align: right;\">\n",
       "      <th></th>\n",
       "      <th>CID</th>\n",
       "      <th>STAGE_BEF</th>\n",
       "      <th>STAGE_AFT</th>\n",
       "      <th>START_DATE</th>\n",
       "      <th>CLOSE_DATE</th>\n",
       "      <th>AFT_FLAG</th>\n",
       "    </tr>\n",
       "  </thead>\n",
       "  <tbody>\n",
       "    <tr>\n",
       "      <th>1115857</th>\n",
       "      <td>CID0164451</td>\n",
       "      <td>M1</td>\n",
       "      <td>M2</td>\n",
       "      <td>201512</td>\n",
       "      <td>201512</td>\n",
       "      <td>2</td>\n",
       "    </tr>\n",
       "    <tr>\n",
       "      <th>1298974</th>\n",
       "      <td>CID0164451</td>\n",
       "      <td></td>\n",
       "      <td>M0</td>\n",
       "      <td>201511</td>\n",
       "      <td>201511</td>\n",
       "      <td>0</td>\n",
       "    </tr>\n",
       "    <tr>\n",
       "      <th>1462710</th>\n",
       "      <td>CID0164451</td>\n",
       "      <td>M0</td>\n",
       "      <td>M1</td>\n",
       "      <td>201511</td>\n",
       "      <td>201512</td>\n",
       "      <td>1</td>\n",
       "    </tr>\n",
       "    <tr>\n",
       "      <th>1796143</th>\n",
       "      <td>CID0164451</td>\n",
       "      <td></td>\n",
       "      <td>M0</td>\n",
       "      <td>201701</td>\n",
       "      <td>201701</td>\n",
       "      <td>0</td>\n",
       "    </tr>\n",
       "  </tbody>\n",
       "</table>\n",
       "</div>"
      ],
      "text/plain": [
       "                CID STAGE_BEF STAGE_AFT  START_DATE  CLOSE_DATE  AFT_FLAG\n",
       "1115857  CID0164451        M1        M2      201512      201512         2\n",
       "1298974  CID0164451                  M0      201511      201511         0\n",
       "1462710  CID0164451        M0        M1      201511      201512         1\n",
       "1796143  CID0164451                  M0      201701      201701         0"
      ]
     },
     "execution_count": 33,
     "metadata": {},
     "output_type": "execute_result"
    }
   ],
   "source": [
    "sample_window.loc[sample_window.CID==\"CID0164451\",:]"
   ]
  },
  {
   "cell_type": "code",
   "execution_count": 34,
   "metadata": {},
   "outputs": [],
   "source": [
    "# 仅有一条处理时删除即可(该方法比直接删除好的地方在于同时还得到了统计数字)\n",
    "month_count = (first_use.OVERDUE_INDEX - first_use.START_INDEX).value_counts().sort_index()[1:]\n",
    "#从开始距离第一次变坏间隔了多少个月的统计数字"
   ]
  },
  {
   "cell_type": "code",
   "execution_count": 35,
   "metadata": {},
   "outputs": [
    {
     "data": {
      "text/plain": [
       "count      38.000000\n",
       "mean      816.868421\n",
       "std       628.975536\n",
       "min         1.000000\n",
       "25%       269.000000\n",
       "50%       604.500000\n",
       "75%      1333.000000\n",
       "max      2039.000000\n",
       "dtype: float64"
      ]
     },
     "execution_count": 35,
     "metadata": {},
     "output_type": "execute_result"
    }
   ],
   "source": [
    "month_count.describe()"
   ]
  },
  {
   "cell_type": "code",
   "execution_count": 36,
   "metadata": {},
   "outputs": [
    {
     "data": {
      "text/plain": [
       "<matplotlib.axes._subplots.AxesSubplot at 0x61647b8>"
      ]
     },
     "execution_count": 36,
     "metadata": {},
     "output_type": "execute_result"
    }
   ],
   "source": [
    "month_count.plot()"
   ]
  },
  {
   "cell_type": "code",
   "execution_count": 37,
   "metadata": {},
   "outputs": [
    {
     "data": {
      "text/plain": [
       "<matplotlib.axes._subplots.AxesSubplot at 0xeb537b8>"
      ]
     },
     "execution_count": 37,
     "metadata": {},
     "output_type": "execute_result"
    },
    {
     "data": {
      "image/png": "[encoded data removed]",
      "text/plain": [
       "<Figure size 432x288 with 1 Axes>"
      ]
     },
     "metadata": {
      "needs_background": "light"
     },
     "output_type": "display_data"
    }
   ],
   "source": [
    "month_count.cumsum().plot()"
   ]
  },
  {
   "cell_type": "markdown",
   "metadata": {},
   "source": [
    "## 数据准备与数据预处理"
   ]
  },
  {
   "cell_type": "code",
   "execution_count": 38,
   "metadata": {},
   "outputs": [],
   "source": [
    "#读取用户申请信息表数据\n",
    "train_data=pd.read_csv(\"./data/cs-training.csv\",index_col=0)"
   ]
  },
  {
   "cell_type": "code",
   "execution_count": 39,
   "metadata": {},
   "outputs": [
    {
     "data": {
      "text/html": [
       "<div>\n",
       "<style scoped>\n",
       "    .dataframe tbody tr th:only-of-type {\n",
       "        vertical-align: middle;\n",
       "    }\n",
       "\n",
       "    .dataframe tbody tr th {\n",
       "        vertical-align: top;\n",
       "    }\n",
       "\n",
       "    .dataframe thead th {\n",
       "        text-align: right;\n",
       "    }\n",
       "</style>\n",
       "<table border=\"1\" class=\"dataframe\">\n",
       "  <thead>\n",
       "    <tr style=\"text-align: right;\">\n",
       "      <th></th>\n",
       "      <th>SeriousDlqin2yrs</th>\n",
       "      <th>RevolvingUtilizationOfUnsecuredLines</th>\n",
       "      <th>age</th>\n",
       "      <th>NumberOfTime30-59DaysPastDueNotWorse</th>\n",
       "      <th>DebtRatio</th>\n",
       "      <th>MonthlyIncome</th>\n",
       "      <th>NumberOfOpenCreditLinesAndLoans</th>\n",
       "      <th>NumberOfTimes90DaysLate</th>\n",
       "      <th>NumberRealEstateLoansOrLines</th>\n",
       "      <th>NumberOfTime60-89DaysPastDueNotWorse</th>\n",
       "      <th>NumberOfDependents</th>\n",
       "    </tr>\n",
       "  </thead>\n",
       "  <tbody>\n",
       "    <tr>\n",
       "      <th>1</th>\n",
       "      <td>1</td>\n",
       "      <td>0.766127</td>\n",
       "      <td>45</td>\n",
       "      <td>2</td>\n",
       "      <td>0.802982</td>\n",
       "      <td>9120.0</td>\n",
       "      <td>13</td>\n",
       "      <td>0</td>\n",
       "      <td>6</td>\n",
       "      <td>0</td>\n",
       "      <td>2.0</td>\n",
       "    </tr>\n",
       "    <tr>\n",
       "      <th>2</th>\n",
       "      <td>0</td>\n",
       "      <td>0.957151</td>\n",
       "      <td>40</td>\n",
       "      <td>0</td>\n",
       "      <td>0.121876</td>\n",
       "      <td>2600.0</td>\n",
       "      <td>4</td>\n",
       "      <td>0</td>\n",
       "      <td>0</td>\n",
       "      <td>0</td>\n",
       "      <td>1.0</td>\n",
       "    </tr>\n",
       "    <tr>\n",
       "      <th>3</th>\n",
       "      <td>0</td>\n",
       "      <td>0.658180</td>\n",
       "      <td>38</td>\n",
       "      <td>1</td>\n",
       "      <td>0.085113</td>\n",
       "      <td>3042.0</td>\n",
       "      <td>2</td>\n",
       "      <td>1</td>\n",
       "      <td>0</td>\n",
       "      <td>0</td>\n",
       "      <td>0.0</td>\n",
       "    </tr>\n",
       "    <tr>\n",
       "      <th>4</th>\n",
       "      <td>0</td>\n",
       "      <td>0.233810</td>\n",
       "      <td>30</td>\n",
       "      <td>0</td>\n",
       "      <td>0.036050</td>\n",
       "      <td>3300.0</td>\n",
       "      <td>5</td>\n",
       "      <td>0</td>\n",
       "      <td>0</td>\n",
       "      <td>0</td>\n",
       "      <td>0.0</td>\n",
       "    </tr>\n",
       "    <tr>\n",
       "      <th>5</th>\n",
       "      <td>0</td>\n",
       "      <td>0.907239</td>\n",
       "      <td>49</td>\n",
       "      <td>1</td>\n",
       "      <td>0.024926</td>\n",
       "      <td>63588.0</td>\n",
       "      <td>7</td>\n",
       "      <td>0</td>\n",
       "      <td>1</td>\n",
       "      <td>0</td>\n",
       "      <td>0.0</td>\n",
       "    </tr>\n",
       "  </tbody>\n",
       "</table>\n",
       "</div>"
      ],
      "text/plain": [
       "   SeriousDlqin2yrs  RevolvingUtilizationOfUnsecuredLines  age  \\\n",
       "1                 1                              0.766127   45   \n",
       "2                 0                              0.957151   40   \n",
       "3                 0                              0.658180   38   \n",
       "4                 0                              0.233810   30   \n",
       "5                 0                              0.907239   49   \n",
       "\n",
       "   NumberOfTime30-59DaysPastDueNotWorse  DebtRatio  MonthlyIncome  \\\n",
       "1                                     2   0.802982         9120.0   \n",
       "2                                     0   0.121876         2600.0   \n",
       "3                                     1   0.085113         3042.0   \n",
       "4                                     0   0.036050         3300.0   \n",
       "5                                     1   0.024926        63588.0   \n",
       "\n",
       "   NumberOfOpenCreditLinesAndLoans  NumberOfTimes90DaysLate  \\\n",
       "1                               13                        0   \n",
       "2                                4                        0   \n",
       "3                                2                        1   \n",
       "4                                5                        0   \n",
       "5                                7                        0   \n",
       "\n",
       "   NumberRealEstateLoansOrLines  NumberOfTime60-89DaysPastDueNotWorse  \\\n",
       "1                             6                                     0   \n",
       "2                             0                                     0   \n",
       "3                             0                                     0   \n",
       "4                             0                                     0   \n",
       "5                             1                                     0   \n",
       "\n",
       "   NumberOfDependents  \n",
       "1                 2.0  \n",
       "2                 1.0  \n",
       "3                 0.0  \n",
       "4                 0.0  \n",
       "5                 0.0  "
      ]
     },
     "execution_count": 39,
     "metadata": {},
     "output_type": "execute_result"
    }
   ],
   "source": [
    "train_data.head()"
   ]
  },
  {
   "cell_type": "code",
   "execution_count": 40,
   "metadata": {},
   "outputs": [
    {
     "data": {
      "text/html": [
       "<div>\n",
       "<style scoped>\n",
       "    .dataframe tbody tr th:only-of-type {\n",
       "        vertical-align: middle;\n",
       "    }\n",
       "\n",
       "    .dataframe tbody tr th {\n",
       "        vertical-align: top;\n",
       "    }\n",
       "\n",
       "    .dataframe thead th {\n",
       "        text-align: right;\n",
       "    }\n",
       "</style>\n",
       "<table border=\"1\" class=\"dataframe\">\n",
       "  <thead>\n",
       "    <tr style=\"text-align: right;\">\n",
       "      <th></th>\n",
       "      <th>SeriousDlqin2yrs</th>\n",
       "      <th>RevolvingUtilizationOfUnsecuredLines</th>\n",
       "      <th>age</th>\n",
       "      <th>NumberOfTime30-59DaysPastDueNotWorse</th>\n",
       "      <th>DebtRatio</th>\n",
       "      <th>MonthlyIncome</th>\n",
       "      <th>NumberOfOpenCreditLinesAndLoans</th>\n",
       "      <th>NumberOfTimes90DaysLate</th>\n",
       "      <th>NumberRealEstateLoansOrLines</th>\n",
       "      <th>NumberOfTime60-89DaysPastDueNotWorse</th>\n",
       "      <th>NumberOfDependents</th>\n",
       "    </tr>\n",
       "  </thead>\n",
       "  <tbody>\n",
       "    <tr>\n",
       "      <th>149996</th>\n",
       "      <td>0</td>\n",
       "      <td>0.040674</td>\n",
       "      <td>74</td>\n",
       "      <td>0</td>\n",
       "      <td>0.225131</td>\n",
       "      <td>2100.0</td>\n",
       "      <td>4</td>\n",
       "      <td>0</td>\n",
       "      <td>1</td>\n",
       "      <td>0</td>\n",
       "      <td>0.0</td>\n",
       "    </tr>\n",
       "    <tr>\n",
       "      <th>149997</th>\n",
       "      <td>0</td>\n",
       "      <td>0.299745</td>\n",
       "      <td>44</td>\n",
       "      <td>0</td>\n",
       "      <td>0.716562</td>\n",
       "      <td>5584.0</td>\n",
       "      <td>4</td>\n",
       "      <td>0</td>\n",
       "      <td>1</td>\n",
       "      <td>0</td>\n",
       "      <td>2.0</td>\n",
       "    </tr>\n",
       "    <tr>\n",
       "      <th>149998</th>\n",
       "      <td>0</td>\n",
       "      <td>0.246044</td>\n",
       "      <td>58</td>\n",
       "      <td>0</td>\n",
       "      <td>3870.000000</td>\n",
       "      <td>NaN</td>\n",
       "      <td>18</td>\n",
       "      <td>0</td>\n",
       "      <td>1</td>\n",
       "      <td>0</td>\n",
       "      <td>0.0</td>\n",
       "    </tr>\n",
       "    <tr>\n",
       "      <th>149999</th>\n",
       "      <td>0</td>\n",
       "      <td>0.000000</td>\n",
       "      <td>30</td>\n",
       "      <td>0</td>\n",
       "      <td>0.000000</td>\n",
       "      <td>5716.0</td>\n",
       "      <td>4</td>\n",
       "      <td>0</td>\n",
       "      <td>0</td>\n",
       "      <td>0</td>\n",
       "      <td>0.0</td>\n",
       "    </tr>\n",
       "    <tr>\n",
       "      <th>150000</th>\n",
       "      <td>0</td>\n",
       "      <td>0.850283</td>\n",
       "      <td>64</td>\n",
       "      <td>0</td>\n",
       "      <td>0.249908</td>\n",
       "      <td>8158.0</td>\n",
       "      <td>8</td>\n",
       "      <td>0</td>\n",
       "      <td>2</td>\n",
       "      <td>0</td>\n",
       "      <td>0.0</td>\n",
       "    </tr>\n",
       "  </tbody>\n",
       "</table>\n",
       "</div>"
      ],
      "text/plain": [
       "        SeriousDlqin2yrs  RevolvingUtilizationOfUnsecuredLines  age  \\\n",
       "149996                 0                              0.040674   74   \n",
       "149997                 0                              0.299745   44   \n",
       "149998                 0                              0.246044   58   \n",
       "149999                 0                              0.000000   30   \n",
       "150000                 0                              0.850283   64   \n",
       "\n",
       "        NumberOfTime30-59DaysPastDueNotWorse    DebtRatio  MonthlyIncome  \\\n",
       "149996                                     0     0.225131         2100.0   \n",
       "149997                                     0     0.716562         5584.0   \n",
       "149998                                     0  3870.000000            NaN   \n",
       "149999                                     0     0.000000         5716.0   \n",
       "150000                                     0     0.249908         8158.0   \n",
       "\n",
       "        NumberOfOpenCreditLinesAndLoans  NumberOfTimes90DaysLate  \\\n",
       "149996                                4                        0   \n",
       "149997                                4                        0   \n",
       "149998                               18                        0   \n",
       "149999                                4                        0   \n",
       "150000                                8                        0   \n",
       "\n",
       "        NumberRealEstateLoansOrLines  NumberOfTime60-89DaysPastDueNotWorse  \\\n",
       "149996                             1                                     0   \n",
       "149997                             1                                     0   \n",
       "149998                             1                                     0   \n",
       "149999                             0                                     0   \n",
       "150000                             2                                     0   \n",
       "\n",
       "        NumberOfDependents  \n",
       "149996                 0.0  \n",
       "149997                 2.0  \n",
       "149998                 0.0  \n",
       "149999                 0.0  \n",
       "150000                 0.0  "
      ]
     },
     "execution_count": 40,
     "metadata": {},
     "output_type": "execute_result"
    }
   ],
   "source": [
    "train_data.tail()"
   ]
  },
  {
   "cell_type": "code",
   "execution_count": 41,
   "metadata": {},
   "outputs": [
    {
     "name": "stdout",
     "output_type": "stream",
     "text": [
      "<class 'pandas.core.frame.DataFrame'>\n",
      "Int64Index: 150000 entries, 1 to 150000\n",
      "Data columns (total 11 columns):\n",
      "SeriousDlqin2yrs                        150000 non-null int64\n",
      "RevolvingUtilizationOfUnsecuredLines    150000 non-null float64\n",
      "age                                     150000 non-null int64\n",
      "NumberOfTime30-59DaysPastDueNotWorse    150000 non-null int64\n",
      "DebtRatio                               150000 non-null float64\n",
      "MonthlyIncome                           120269 non-null float64\n",
      "NumberOfOpenCreditLinesAndLoans         150000 non-null int64\n",
      "NumberOfTimes90DaysLate                 150000 non-null int64\n",
      "NumberRealEstateLoansOrLines            150000 non-null int64\n",
      "NumberOfTime60-89DaysPastDueNotWorse    150000 non-null int64\n",
      "NumberOfDependents                      146076 non-null float64\n",
      "dtypes: float64(4), int64(7)\n",
      "memory usage: 13.7 MB\n"
     ]
    }
   ],
   "source": [
    "train_data.info()"
   ]
  },
  {
   "cell_type": "code",
   "execution_count": 42,
   "metadata": {},
   "outputs": [
    {
     "data": {
      "text/html": [
       "<div>\n",
       "<style scoped>\n",
       "    .dataframe tbody tr th:only-of-type {\n",
       "        vertical-align: middle;\n",
       "    }\n",
       "\n",
       "    .dataframe tbody tr th {\n",
       "        vertical-align: top;\n",
       "    }\n",
       "\n",
       "    .dataframe thead th {\n",
       "        text-align: right;\n",
       "    }\n",
       "</style>\n",
       "<table border=\"1\" class=\"dataframe\">\n",
       "  <thead>\n",
       "    <tr style=\"text-align: right;\">\n",
       "      <th></th>\n",
       "      <th>count</th>\n",
       "      <th>mean</th>\n",
       "      <th>std</th>\n",
       "      <th>min</th>\n",
       "      <th>1%</th>\n",
       "      <th>10%</th>\n",
       "      <th>25%</th>\n",
       "      <th>50%</th>\n",
       "      <th>75%</th>\n",
       "      <th>90%</th>\n",
       "      <th>99%</th>\n",
       "      <th>max</th>\n",
       "    </tr>\n",
       "  </thead>\n",
       "  <tbody>\n",
       "    <tr>\n",
       "      <th>SeriousDlqin2yrs</th>\n",
       "      <td>150000.0</td>\n",
       "      <td>0.066840</td>\n",
       "      <td>0.249746</td>\n",
       "      <td>0.0</td>\n",
       "      <td>0.0</td>\n",
       "      <td>0.000000</td>\n",
       "      <td>0.000000</td>\n",
       "      <td>0.000000</td>\n",
       "      <td>0.000000</td>\n",
       "      <td>0.000000</td>\n",
       "      <td>1.000000</td>\n",
       "      <td>1.0</td>\n",
       "    </tr>\n",
       "    <tr>\n",
       "      <th>RevolvingUtilizationOfUnsecuredLines</th>\n",
       "      <td>150000.0</td>\n",
       "      <td>6.048438</td>\n",
       "      <td>249.755371</td>\n",
       "      <td>0.0</td>\n",
       "      <td>0.0</td>\n",
       "      <td>0.002969</td>\n",
       "      <td>0.029867</td>\n",
       "      <td>0.154181</td>\n",
       "      <td>0.559046</td>\n",
       "      <td>0.981278</td>\n",
       "      <td>1.092956</td>\n",
       "      <td>50708.0</td>\n",
       "    </tr>\n",
       "    <tr>\n",
       "      <th>age</th>\n",
       "      <td>150000.0</td>\n",
       "      <td>52.295207</td>\n",
       "      <td>14.771866</td>\n",
       "      <td>0.0</td>\n",
       "      <td>24.0</td>\n",
       "      <td>33.000000</td>\n",
       "      <td>41.000000</td>\n",
       "      <td>52.000000</td>\n",
       "      <td>63.000000</td>\n",
       "      <td>72.000000</td>\n",
       "      <td>87.000000</td>\n",
       "      <td>109.0</td>\n",
       "    </tr>\n",
       "    <tr>\n",
       "      <th>NumberOfTime30-59DaysPastDueNotWorse</th>\n",
       "      <td>150000.0</td>\n",
       "      <td>0.421033</td>\n",
       "      <td>4.192781</td>\n",
       "      <td>0.0</td>\n",
       "      <td>0.0</td>\n",
       "      <td>0.000000</td>\n",
       "      <td>0.000000</td>\n",
       "      <td>0.000000</td>\n",
       "      <td>0.000000</td>\n",
       "      <td>1.000000</td>\n",
       "      <td>4.000000</td>\n",
       "      <td>98.0</td>\n",
       "    </tr>\n",
       "    <tr>\n",
       "      <th>DebtRatio</th>\n",
       "      <td>150000.0</td>\n",
       "      <td>353.005076</td>\n",
       "      <td>2037.818523</td>\n",
       "      <td>0.0</td>\n",
       "      <td>0.0</td>\n",
       "      <td>0.030874</td>\n",
       "      <td>0.175074</td>\n",
       "      <td>0.366508</td>\n",
       "      <td>0.868254</td>\n",
       "      <td>1267.000000</td>\n",
       "      <td>4979.040000</td>\n",
       "      <td>329664.0</td>\n",
       "    </tr>\n",
       "    <tr>\n",
       "      <th>MonthlyIncome</th>\n",
       "      <td>120269.0</td>\n",
       "      <td>6670.221237</td>\n",
       "      <td>14384.674215</td>\n",
       "      <td>0.0</td>\n",
       "      <td>0.0</td>\n",
       "      <td>2005.000000</td>\n",
       "      <td>3400.000000</td>\n",
       "      <td>5400.000000</td>\n",
       "      <td>8249.000000</td>\n",
       "      <td>11666.000000</td>\n",
       "      <td>25000.000000</td>\n",
       "      <td>3008750.0</td>\n",
       "    </tr>\n",
       "    <tr>\n",
       "      <th>NumberOfOpenCreditLinesAndLoans</th>\n",
       "      <td>150000.0</td>\n",
       "      <td>8.452760</td>\n",
       "      <td>5.145951</td>\n",
       "      <td>0.0</td>\n",
       "      <td>0.0</td>\n",
       "      <td>3.000000</td>\n",
       "      <td>5.000000</td>\n",
       "      <td>8.000000</td>\n",
       "      <td>11.000000</td>\n",
       "      <td>15.000000</td>\n",
       "      <td>24.000000</td>\n",
       "      <td>58.0</td>\n",
       "    </tr>\n",
       "    <tr>\n",
       "      <th>NumberOfTimes90DaysLate</th>\n",
       "      <td>150000.0</td>\n",
       "      <td>0.265973</td>\n",
       "      <td>4.169304</td>\n",
       "      <td>0.0</td>\n",
       "      <td>0.0</td>\n",
       "      <td>0.000000</td>\n",
       "      <td>0.000000</td>\n",
       "      <td>0.000000</td>\n",
       "      <td>0.000000</td>\n",
       "      <td>0.000000</td>\n",
       "      <td>3.000000</td>\n",
       "      <td>98.0</td>\n",
       "    </tr>\n",
       "    <tr>\n",
       "      <th>NumberRealEstateLoansOrLines</th>\n",
       "      <td>150000.0</td>\n",
       "      <td>1.018240</td>\n",
       "      <td>1.129771</td>\n",
       "      <td>0.0</td>\n",
       "      <td>0.0</td>\n",
       "      <td>0.000000</td>\n",
       "      <td>0.000000</td>\n",
       "      <td>1.000000</td>\n",
       "      <td>2.000000</td>\n",
       "      <td>2.000000</td>\n",
       "      <td>4.000000</td>\n",
       "      <td>54.0</td>\n",
       "    </tr>\n",
       "    <tr>\n",
       "      <th>NumberOfTime60-89DaysPastDueNotWorse</th>\n",
       "      <td>150000.0</td>\n",
       "      <td>0.240387</td>\n",
       "      <td>4.155179</td>\n",
       "      <td>0.0</td>\n",
       "      <td>0.0</td>\n",
       "      <td>0.000000</td>\n",
       "      <td>0.000000</td>\n",
       "      <td>0.000000</td>\n",
       "      <td>0.000000</td>\n",
       "      <td>0.000000</td>\n",
       "      <td>2.000000</td>\n",
       "      <td>98.0</td>\n",
       "    </tr>\n",
       "    <tr>\n",
       "      <th>NumberOfDependents</th>\n",
       "      <td>146076.0</td>\n",
       "      <td>0.757222</td>\n",
       "      <td>1.115086</td>\n",
       "      <td>0.0</td>\n",
       "      <td>0.0</td>\n",
       "      <td>0.000000</td>\n",
       "      <td>0.000000</td>\n",
       "      <td>0.000000</td>\n",
       "      <td>1.000000</td>\n",
       "      <td>2.000000</td>\n",
       "      <td>4.000000</td>\n",
       "      <td>20.0</td>\n",
       "    </tr>\n",
       "  </tbody>\n",
       "</table>\n",
       "</div>"
      ],
      "text/plain": [
       "                                         count         mean           std  \\\n",
       "SeriousDlqin2yrs                      150000.0     0.066840      0.249746   \n",
       "RevolvingUtilizationOfUnsecuredLines  150000.0     6.048438    249.755371   \n",
       "age                                   150000.0    52.295207     14.771866   \n",
       "NumberOfTime30-59DaysPastDueNotWorse  150000.0     0.421033      4.192781   \n",
       "DebtRatio                             150000.0   353.005076   2037.818523   \n",
       "MonthlyIncome                         120269.0  6670.221237  14384.674215   \n",
       "NumberOfOpenCreditLinesAndLoans       150000.0     8.452760      5.145951   \n",
       "NumberOfTimes90DaysLate               150000.0     0.265973      4.169304   \n",
       "NumberRealEstateLoansOrLines          150000.0     1.018240      1.129771   \n",
       "NumberOfTime60-89DaysPastDueNotWorse  150000.0     0.240387      4.155179   \n",
       "NumberOfDependents                    146076.0     0.757222      1.115086   \n",
       "\n",
       "                                      min    1%          10%          25%  \\\n",
       "SeriousDlqin2yrs                      0.0   0.0     0.000000     0.000000   \n",
       "RevolvingUtilizationOfUnsecuredLines  0.0   0.0     0.002969     0.029867   \n",
       "age                                   0.0  24.0    33.000000    41.000000   \n",
       "NumberOfTime30-59DaysPastDueNotWorse  0.0   0.0     0.000000     0.000000   \n",
       "DebtRatio                             0.0   0.0     0.030874     0.175074   \n",
       "MonthlyIncome                         0.0   0.0  2005.000000  3400.000000   \n",
       "NumberOfOpenCreditLinesAndLoans       0.0   0.0     3.000000     5.000000   \n",
       "NumberOfTimes90DaysLate               0.0   0.0     0.000000     0.000000   \n",
       "NumberRealEstateLoansOrLines          0.0   0.0     0.000000     0.000000   \n",
       "NumberOfTime60-89DaysPastDueNotWorse  0.0   0.0     0.000000     0.000000   \n",
       "NumberOfDependents                    0.0   0.0     0.000000     0.000000   \n",
       "\n",
       "                                              50%          75%           90%  \\\n",
       "SeriousDlqin2yrs                         0.000000     0.000000      0.000000   \n",
       "RevolvingUtilizationOfUnsecuredLines     0.154181     0.559046      0.981278   \n",
       "age                                     52.000000    63.000000     72.000000   \n",
       "NumberOfTime30-59DaysPastDueNotWorse     0.000000     0.000000      1.000000   \n",
       "DebtRatio                                0.366508     0.868254   1267.000000   \n",
       "MonthlyIncome                         5400.000000  8249.000000  11666.000000   \n",
       "NumberOfOpenCreditLinesAndLoans          8.000000    11.000000     15.000000   \n",
       "NumberOfTimes90DaysLate                  0.000000     0.000000      0.000000   \n",
       "NumberRealEstateLoansOrLines             1.000000     2.000000      2.000000   \n",
       "NumberOfTime60-89DaysPastDueNotWorse     0.000000     0.000000      0.000000   \n",
       "NumberOfDependents                       0.000000     1.000000      2.000000   \n",
       "\n",
       "                                               99%        max  \n",
       "SeriousDlqin2yrs                          1.000000        1.0  \n",
       "RevolvingUtilizationOfUnsecuredLines      1.092956    50708.0  \n",
       "age                                      87.000000      109.0  \n",
       "NumberOfTime30-59DaysPastDueNotWorse      4.000000       98.0  \n",
       "DebtRatio                              4979.040000   329664.0  \n",
       "MonthlyIncome                         25000.000000  3008750.0  \n",
       "NumberOfOpenCreditLinesAndLoans          24.000000       58.0  \n",
       "NumberOfTimes90DaysLate                   3.000000       98.0  \n",
       "NumberRealEstateLoansOrLines              4.000000       54.0  \n",
       "NumberOfTime60-89DaysPastDueNotWorse      2.000000       98.0  \n",
       "NumberOfDependents                        4.000000       20.0  "
      ]
     },
     "execution_count": 42,
     "metadata": {},
     "output_type": "execute_result"
    }
   ],
   "source": [
    "#查看数据分布\n",
    "train_data.describe([0.01,0.1,0.25,0.5,0.75,0.9,0.99]).T"
   ]
  },
  {
   "cell_type": "markdown",
   "metadata": {},
   "source": [
    "### 缺失值处理"
   ]
  },
  {
   "cell_type": "code",
   "execution_count": 43,
   "metadata": {},
   "outputs": [
    {
     "data": {
      "text/plain": [
       "SeriousDlqin2yrs                        0.000000\n",
       "RevolvingUtilizationOfUnsecuredLines    0.000000\n",
       "age                                     0.000000\n",
       "NumberOfTime30-59DaysPastDueNotWorse    0.000000\n",
       "DebtRatio                               0.000000\n",
       "MonthlyIncome                           0.198207\n",
       "NumberOfOpenCreditLinesAndLoans         0.000000\n",
       "NumberOfTimes90DaysLate                 0.000000\n",
       "NumberRealEstateLoansOrLines            0.000000\n",
       "NumberOfTime60-89DaysPastDueNotWorse    0.000000\n",
       "NumberOfDependents                      0.026160\n",
       "dtype: float64"
      ]
     },
     "execution_count": 43,
     "metadata": {},
     "output_type": "execute_result"
    }
   ],
   "source": [
    "#查看缺失值\n",
    "train_data.isnull().mean()"
   ]
  },
  {
   "cell_type": "code",
   "execution_count": 44,
   "metadata": {},
   "outputs": [
    {
     "data": {
      "text/plain": [
       "<matplotlib.axes._subplots.AxesSubplot at 0x10ed5940>"
      ]
     },
     "execution_count": 44,
     "metadata": {},
     "output_type": "execute_result"
    },
    {
     "data": {
      "image/png": "[encoded data removed]",
      "text/plain": [
       "<Figure size 1800x720 with 2 Axes>"
      ]
     },
     "metadata": {
      "needs_background": "light"
     },
     "output_type": "display_data"
    }
   ],
   "source": [
    "#较好的可视化缺失值状况分析\n",
    "import missingno as msno\n",
    "msno.matrix(train_data)"
   ]
  },
  {
   "cell_type": "code",
   "execution_count": 45,
   "metadata": {},
   "outputs": [],
   "source": [
    "#一个人的收入与其自身的行为特征有较大可能的关联，所以我计划，使用随机森林算法进行缺失值填补\n",
    "from sklearn.ensemble import RandomForestRegressor as rfr"
   ]
  },
  {
   "cell_type": "code",
   "execution_count": 46,
   "metadata": {},
   "outputs": [],
   "source": [
    "def fill_missing(data,to_fill):\n",
    "    df=data.copy()\n",
    "    columns=[*df.columns]\n",
    "    columns.remove(to_fill)\n",
    "    columns.remove(\"NumberOfDependents\")\n",
    "    x=df.loc[:,columns]\n",
    "    y=df.loc[:,to_fill]\n",
    "    x_train=x.loc[df[to_fill].notnull()]\n",
    "    x_pred=x.loc[df[to_fill].isnull()]\n",
    "    y_train=y.loc[df[to_fill].notnull()]\n",
    "    model=rfr(random_state=0,\n",
    "              n_estimators=200,\n",
    "              max_depth=3,\n",
    "              n_jobs=-1)\n",
    "    model.fit(x_train,y_train)\n",
    "    pred=model.predict(x_pred)\n",
    "    df.loc[df[to_fill].isnull(),to_fill]=pred\n",
    "    return df"
   ]
  },
  {
   "cell_type": "code",
   "execution_count": 47,
   "metadata": {},
   "outputs": [],
   "source": [
    "train_data=fill_missing(train_data,'MonthlyIncome')"
   ]
  },
  {
   "cell_type": "code",
   "execution_count": 48,
   "metadata": {},
   "outputs": [],
   "source": [
    "#因为NumberOfDependents 缺失值仅有2.6%，比较少，可以考虑直接删除\n",
    "train_data.dropna(inplace=True)"
   ]
  },
  {
   "cell_type": "markdown",
   "metadata": {},
   "source": [
    "### 异常值处理"
   ]
  },
  {
   "cell_type": "code",
   "execution_count": 49,
   "metadata": {},
   "outputs": [
    {
     "data": {
      "text/plain": [
       "0         1\n",
       "21      152\n",
       "22      396\n",
       "23      599\n",
       "24      760\n",
       "25      909\n",
       "26     1148\n",
       "27     1282\n",
       "28     1520\n",
       "29     1663\n",
       "30     1898\n",
       "31     2016\n",
       "32     2024\n",
       "33     2220\n",
       "34     2123\n",
       "35     2214\n",
       "36     2343\n",
       "37     2489\n",
       "38     2599\n",
       "39     2965\n",
       "40     3059\n",
       "41     3094\n",
       "42     3056\n",
       "43     3185\n",
       "44     3274\n",
       "45     3470\n",
       "46     3660\n",
       "47     3671\n",
       "48     3741\n",
       "49     3782\n",
       "       ... \n",
       "74     1379\n",
       "75     1168\n",
       "76     1114\n",
       "77     1032\n",
       "78      990\n",
       "79      915\n",
       "80      822\n",
       "81      712\n",
       "82      598\n",
       "83      463\n",
       "84      439\n",
       "85      435\n",
       "86      367\n",
       "87      310\n",
       "88      265\n",
       "89      242\n",
       "90      167\n",
       "91      129\n",
       "92       82\n",
       "93       70\n",
       "94       35\n",
       "95       37\n",
       "96       14\n",
       "97       12\n",
       "98        5\n",
       "99        5\n",
       "101       3\n",
       "102       3\n",
       "103       3\n",
       "107       1\n",
       "Name: age, Length: 84, dtype: int64"
      ]
     },
     "execution_count": 49,
     "metadata": {},
     "output_type": "execute_result"
    }
   ],
   "source": [
    "train_data.age.value_counts().sort_index()"
   ]
  },
  {
   "cell_type": "code",
   "execution_count": 50,
   "metadata": {},
   "outputs": [],
   "source": [
    "#可视化查看异常值\n",
    "import matplotlib.pyplot as plt"
   ]
  },
  {
   "cell_type": "code",
   "execution_count": 51,
   "metadata": {},
   "outputs": [
    {
     "name": "stdout",
     "output_type": "stream",
     "text": [
      "<class 'pandas.core.frame.DataFrame'>\n",
      "Int64Index: 146076 entries, 1 to 150000\n",
      "Data columns (total 11 columns):\n",
      "SeriousDlqin2yrs                        146076 non-null int64\n",
      "RevolvingUtilizationOfUnsecuredLines    146076 non-null float64\n",
      "age                                     146076 non-null int64\n",
      "NumberOfTime30-59DaysPastDueNotWorse    146076 non-null int64\n",
      "DebtRatio                               146076 non-null float64\n",
      "MonthlyIncome                           146076 non-null float64\n",
      "NumberOfOpenCreditLinesAndLoans         146076 non-null int64\n",
      "NumberOfTimes90DaysLate                 146076 non-null int64\n",
      "NumberRealEstateLoansOrLines            146076 non-null int64\n",
      "NumberOfTime60-89DaysPastDueNotWorse    146076 non-null int64\n",
      "NumberOfDependents                      146076 non-null float64\n",
      "dtypes: float64(4), int64(7)\n",
      "memory usage: 13.4 MB\n"
     ]
    }
   ],
   "source": [
    "train_data.info()"
   ]
  },
  {
   "cell_type": "code",
   "execution_count": 52,
   "metadata": {},
   "outputs": [],
   "source": [
    "col=[\"age\",\"NumberOfTime30-59DaysPastDueNotWorse\",\"NumberOfTime60-89DaysPastDueNotWorse\",\"NumberOfTimes90DaysLate\"]"
   ]
  },
  {
   "cell_type": "code",
   "execution_count": 53,
   "metadata": {},
   "outputs": [
    {
     "data": {
      "text/plain": [
       "<matplotlib.axes._subplots.AxesSubplot at 0x140006d8>"
      ]
     },
     "execution_count": 53,
     "metadata": {},
     "output_type": "execute_result"
    },
    {
     "data": {
      "image/png": "[encoded data removed]",
      "text/plain": [
       "<Figure size 432x288 with 1 Axes>"
      ]
     },
     "metadata": {
      "needs_background": "light"
     },
     "output_type": "display_data"
    }
   ],
   "source": [
    "train_data[col].plot.box(vert=False)"
   ]
  },
  {
   "cell_type": "code",
   "execution_count": 54,
   "metadata": {},
   "outputs": [],
   "source": [
    "train_data=train_data.loc[train_data.age>0]"
   ]
  },
  {
   "cell_type": "code",
   "execution_count": 55,
   "metadata": {},
   "outputs": [],
   "source": [
    "#从业务上考虑，后面三个特征不应出现高的次数，可以删除异常数据\n",
    "for i in col[1:]:\n",
    "    train_data=train_data.loc[train_data[i]<90]"
   ]
  },
  {
   "cell_type": "code",
   "execution_count": 56,
   "metadata": {},
   "outputs": [
    {
     "name": "stdout",
     "output_type": "stream",
     "text": [
      "<class 'pandas.core.frame.DataFrame'>\n",
      "Int64Index: 145837 entries, 1 to 150000\n",
      "Data columns (total 11 columns):\n",
      "SeriousDlqin2yrs                        145837 non-null int64\n",
      "RevolvingUtilizationOfUnsecuredLines    145837 non-null float64\n",
      "age                                     145837 non-null int64\n",
      "NumberOfTime30-59DaysPastDueNotWorse    145837 non-null int64\n",
      "DebtRatio                               145837 non-null float64\n",
      "MonthlyIncome                           145837 non-null float64\n",
      "NumberOfOpenCreditLinesAndLoans         145837 non-null int64\n",
      "NumberOfTimes90DaysLate                 145837 non-null int64\n",
      "NumberRealEstateLoansOrLines            145837 non-null int64\n",
      "NumberOfTime60-89DaysPastDueNotWorse    145837 non-null int64\n",
      "NumberOfDependents                      145837 non-null float64\n",
      "dtypes: float64(4), int64(7)\n",
      "memory usage: 13.4 MB\n"
     ]
    }
   ],
   "source": [
    "train_data.info()"
   ]
  },
  {
   "cell_type": "markdown",
   "metadata": {},
   "source": [
    "### 数据集的划分"
   ]
  },
  {
   "cell_type": "code",
   "execution_count": 57,
   "metadata": {},
   "outputs": [],
   "source": [
    "from sklearn.model_selection import train_test_split"
   ]
  },
  {
   "cell_type": "code",
   "execution_count": 58,
   "metadata": {},
   "outputs": [],
   "source": [
    "Y=train_data['SeriousDlqin2yrs']\n",
    "X=train_data.iloc[:,1:]"
   ]
  },
  {
   "cell_type": "code",
   "execution_count": 59,
   "metadata": {},
   "outputs": [],
   "source": [
    "X_train,X_test,Y_train,Y_test=train_test_split(X,Y,test_size=0.3)"
   ]
  },
  {
   "cell_type": "code",
   "execution_count": 60,
   "metadata": {},
   "outputs": [],
   "source": [
    "model_data=pd.concat([Y_train,X_train],axis=1)\n",
    "test_data=pd.concat([Y_test,X_test],axis=1)"
   ]
  },
  {
   "cell_type": "markdown",
   "metadata": {},
   "source": [
    "### 探索性数据分析"
   ]
  },
  {
   "cell_type": "code",
   "execution_count": 61,
   "metadata": {},
   "outputs": [
    {
     "data": {
      "text/plain": [
       "0    95365\n",
       "1     6720\n",
       "Name: SeriousDlqin2yrs, dtype: int64"
      ]
     },
     "execution_count": 61,
     "metadata": {},
     "output_type": "execute_result"
    }
   ],
   "source": [
    " model_data[\"SeriousDlqin2yrs\"].value_counts()"
   ]
  },
  {
   "cell_type": "code",
   "execution_count": 62,
   "metadata": {},
   "outputs": [
    {
     "data": {
      "image/png": "[encoded data removed]",
      "text/plain": [
       "<Figure size 432x288 with 1 Axes>"
      ]
     },
     "metadata": {
      "needs_background": "light"
     },
     "output_type": "display_data"
    }
   ],
   "source": [
    " model_data[\"age\"].plot.hist(bins=30);"
   ]
  },
  {
   "cell_type": "code",
   "execution_count": 63,
   "metadata": {},
   "outputs": [
    {
     "data": {
      "image/png": "[encoded data removed]",
      "text/plain": [
       "<Figure size 432x288 with 1 Axes>"
      ]
     },
     "metadata": {
      "needs_background": "light"
     },
     "output_type": "display_data"
    }
   ],
   "source": [
    "# 可以看出收入有少部分人非常高，使用小于 99% 的分位数的数据查看收入分布\n",
    "income = model_data[\"MonthlyIncome\"]\n",
    "income.loc[income < 23334].plot.hist(bins=50);"
   ]
  },
  {
   "cell_type": "code",
   "execution_count": 64,
   "metadata": {},
   "outputs": [
    {
     "data": {
      "text/html": [
       "<div>\n",
       "<style scoped>\n",
       "    .dataframe tbody tr th:only-of-type {\n",
       "        vertical-align: middle;\n",
       "    }\n",
       "\n",
       "    .dataframe tbody tr th {\n",
       "        vertical-align: top;\n",
       "    }\n",
       "\n",
       "    .dataframe thead th {\n",
       "        text-align: right;\n",
       "    }\n",
       "</style>\n",
       "<table border=\"1\" class=\"dataframe\">\n",
       "  <thead>\n",
       "    <tr style=\"text-align: right;\">\n",
       "      <th></th>\n",
       "      <th>SeriousDlqin2yrs</th>\n",
       "      <th>RevolvingUtilizationOfUnsecuredLines</th>\n",
       "      <th>age</th>\n",
       "      <th>NumberOfTime30-59DaysPastDueNotWorse</th>\n",
       "      <th>DebtRatio</th>\n",
       "      <th>MonthlyIncome</th>\n",
       "      <th>NumberOfOpenCreditLinesAndLoans</th>\n",
       "      <th>NumberOfTimes90DaysLate</th>\n",
       "      <th>NumberRealEstateLoansOrLines</th>\n",
       "      <th>NumberOfTime60-89DaysPastDueNotWorse</th>\n",
       "      <th>NumberOfDependents</th>\n",
       "    </tr>\n",
       "  </thead>\n",
       "  <tbody>\n",
       "    <tr>\n",
       "      <th>SeriousDlqin2yrs</th>\n",
       "      <td>1.000000</td>\n",
       "      <td>-0.000894</td>\n",
       "      <td>-0.109923</td>\n",
       "      <td>0.266950</td>\n",
       "      <td>-0.007266</td>\n",
       "      <td>-0.015567</td>\n",
       "      <td>-0.029686</td>\n",
       "      <td>0.309250</td>\n",
       "      <td>-0.007811</td>\n",
       "      <td>0.264013</td>\n",
       "      <td>0.047168</td>\n",
       "    </tr>\n",
       "    <tr>\n",
       "      <th>RevolvingUtilizationOfUnsecuredLines</th>\n",
       "      <td>-0.000894</td>\n",
       "      <td>1.000000</td>\n",
       "      <td>-0.004131</td>\n",
       "      <td>-0.002976</td>\n",
       "      <td>0.003854</td>\n",
       "      <td>0.006426</td>\n",
       "      <td>-0.011448</td>\n",
       "      <td>-0.000555</td>\n",
       "      <td>0.004158</td>\n",
       "      <td>-0.001671</td>\n",
       "      <td>0.003053</td>\n",
       "    </tr>\n",
       "    <tr>\n",
       "      <th>age</th>\n",
       "      <td>-0.109923</td>\n",
       "      <td>-0.004131</td>\n",
       "      <td>1.000000</td>\n",
       "      <td>-0.070216</td>\n",
       "      <td>0.025885</td>\n",
       "      <td>0.020299</td>\n",
       "      <td>0.156588</td>\n",
       "      <td>-0.083444</td>\n",
       "      <td>0.039355</td>\n",
       "      <td>-0.069874</td>\n",
       "      <td>-0.213723</td>\n",
       "    </tr>\n",
       "    <tr>\n",
       "      <th>NumberOfTime30-59DaysPastDueNotWorse</th>\n",
       "      <td>0.266950</td>\n",
       "      <td>-0.002976</td>\n",
       "      <td>-0.070216</td>\n",
       "      <td>1.000000</td>\n",
       "      <td>0.004221</td>\n",
       "      <td>0.002883</td>\n",
       "      <td>0.074816</td>\n",
       "      <td>0.208516</td>\n",
       "      <td>0.040883</td>\n",
       "      <td>0.299790</td>\n",
       "      <td>0.063132</td>\n",
       "    </tr>\n",
       "    <tr>\n",
       "      <th>DebtRatio</th>\n",
       "      <td>-0.007266</td>\n",
       "      <td>0.003854</td>\n",
       "      <td>0.025885</td>\n",
       "      <td>0.004221</td>\n",
       "      <td>1.000000</td>\n",
       "      <td>-0.014614</td>\n",
       "      <td>0.050245</td>\n",
       "      <td>-0.010560</td>\n",
       "      <td>0.117168</td>\n",
       "      <td>-0.002387</td>\n",
       "      <td>-0.043852</td>\n",
       "    </tr>\n",
       "    <tr>\n",
       "      <th>MonthlyIncome</th>\n",
       "      <td>-0.015567</td>\n",
       "      <td>0.006426</td>\n",
       "      <td>0.020299</td>\n",
       "      <td>0.002883</td>\n",
       "      <td>-0.014614</td>\n",
       "      <td>1.000000</td>\n",
       "      <td>0.095778</td>\n",
       "      <td>-0.018911</td>\n",
       "      <td>0.130303</td>\n",
       "      <td>-0.009810</td>\n",
       "      <td>0.072767</td>\n",
       "    </tr>\n",
       "    <tr>\n",
       "      <th>NumberOfOpenCreditLinesAndLoans</th>\n",
       "      <td>-0.029686</td>\n",
       "      <td>-0.011448</td>\n",
       "      <td>0.156588</td>\n",
       "      <td>0.074816</td>\n",
       "      <td>0.050245</td>\n",
       "      <td>0.095778</td>\n",
       "      <td>1.000000</td>\n",
       "      <td>-0.099074</td>\n",
       "      <td>0.431954</td>\n",
       "      <td>-0.026994</td>\n",
       "      <td>0.065797</td>\n",
       "    </tr>\n",
       "    <tr>\n",
       "      <th>NumberOfTimes90DaysLate</th>\n",
       "      <td>0.309250</td>\n",
       "      <td>-0.000555</td>\n",
       "      <td>-0.083444</td>\n",
       "      <td>0.208516</td>\n",
       "      <td>-0.010560</td>\n",
       "      <td>-0.018911</td>\n",
       "      <td>-0.099074</td>\n",
       "      <td>1.000000</td>\n",
       "      <td>-0.063521</td>\n",
       "      <td>0.284752</td>\n",
       "      <td>0.033244</td>\n",
       "    </tr>\n",
       "    <tr>\n",
       "      <th>NumberRealEstateLoansOrLines</th>\n",
       "      <td>-0.007811</td>\n",
       "      <td>0.004158</td>\n",
       "      <td>0.039355</td>\n",
       "      <td>0.040883</td>\n",
       "      <td>0.117168</td>\n",
       "      <td>0.130303</td>\n",
       "      <td>0.431954</td>\n",
       "      <td>-0.063521</td>\n",
       "      <td>1.000000</td>\n",
       "      <td>-0.021683</td>\n",
       "      <td>0.125842</td>\n",
       "    </tr>\n",
       "    <tr>\n",
       "      <th>NumberOfTime60-89DaysPastDueNotWorse</th>\n",
       "      <td>0.264013</td>\n",
       "      <td>-0.001671</td>\n",
       "      <td>-0.069874</td>\n",
       "      <td>0.299790</td>\n",
       "      <td>-0.002387</td>\n",
       "      <td>-0.009810</td>\n",
       "      <td>-0.026994</td>\n",
       "      <td>0.284752</td>\n",
       "      <td>-0.021683</td>\n",
       "      <td>1.000000</td>\n",
       "      <td>0.039002</td>\n",
       "    </tr>\n",
       "    <tr>\n",
       "      <th>NumberOfDependents</th>\n",
       "      <td>0.047168</td>\n",
       "      <td>0.003053</td>\n",
       "      <td>-0.213723</td>\n",
       "      <td>0.063132</td>\n",
       "      <td>-0.043852</td>\n",
       "      <td>0.072767</td>\n",
       "      <td>0.065797</td>\n",
       "      <td>0.033244</td>\n",
       "      <td>0.125842</td>\n",
       "      <td>0.039002</td>\n",
       "      <td>1.000000</td>\n",
       "    </tr>\n",
       "  </tbody>\n",
       "</table>\n",
       "</div>"
      ],
      "text/plain": [
       "                                      SeriousDlqin2yrs  \\\n",
       "SeriousDlqin2yrs                              1.000000   \n",
       "RevolvingUtilizationOfUnsecuredLines         -0.000894   \n",
       "age                                          -0.109923   \n",
       "NumberOfTime30-59DaysPastDueNotWorse          0.266950   \n",
       "DebtRatio                                    -0.007266   \n",
       "MonthlyIncome                                -0.015567   \n",
       "NumberOfOpenCreditLinesAndLoans              -0.029686   \n",
       "NumberOfTimes90DaysLate                       0.309250   \n",
       "NumberRealEstateLoansOrLines                 -0.007811   \n",
       "NumberOfTime60-89DaysPastDueNotWorse          0.264013   \n",
       "NumberOfDependents                            0.047168   \n",
       "\n",
       "                                      RevolvingUtilizationOfUnsecuredLines  \\\n",
       "SeriousDlqin2yrs                                                 -0.000894   \n",
       "RevolvingUtilizationOfUnsecuredLines                              1.000000   \n",
       "age                                                              -0.004131   \n",
       "NumberOfTime30-59DaysPastDueNotWorse                             -0.002976   \n",
       "DebtRatio                                                         0.003854   \n",
       "MonthlyIncome                                                     0.006426   \n",
       "NumberOfOpenCreditLinesAndLoans                                  -0.011448   \n",
       "NumberOfTimes90DaysLate                                          -0.000555   \n",
       "NumberRealEstateLoansOrLines                                      0.004158   \n",
       "NumberOfTime60-89DaysPastDueNotWorse                             -0.001671   \n",
       "NumberOfDependents                                                0.003053   \n",
       "\n",
       "                                           age  \\\n",
       "SeriousDlqin2yrs                     -0.109923   \n",
       "RevolvingUtilizationOfUnsecuredLines -0.004131   \n",
       "age                                   1.000000   \n",
       "NumberOfTime30-59DaysPastDueNotWorse -0.070216   \n",
       "DebtRatio                             0.025885   \n",
       "MonthlyIncome                         0.020299   \n",
       "NumberOfOpenCreditLinesAndLoans       0.156588   \n",
       "NumberOfTimes90DaysLate              -0.083444   \n",
       "NumberRealEstateLoansOrLines          0.039355   \n",
       "NumberOfTime60-89DaysPastDueNotWorse -0.069874   \n",
       "NumberOfDependents                   -0.213723   \n",
       "\n",
       "                                      NumberOfTime30-59DaysPastDueNotWorse  \\\n",
       "SeriousDlqin2yrs                                                  0.266950   \n",
       "RevolvingUtilizationOfUnsecuredLines                             -0.002976   \n",
       "age                                                              -0.070216   \n",
       "NumberOfTime30-59DaysPastDueNotWorse                              1.000000   \n",
       "DebtRatio                                                         0.004221   \n",
       "MonthlyIncome                                                     0.002883   \n",
       "NumberOfOpenCreditLinesAndLoans                                   0.074816   \n",
       "NumberOfTimes90DaysLate                                           0.208516   \n",
       "NumberRealEstateLoansOrLines                                      0.040883   \n",
       "NumberOfTime60-89DaysPastDueNotWorse                              0.299790   \n",
       "NumberOfDependents                                                0.063132   \n",
       "\n",
       "                                      DebtRatio  MonthlyIncome  \\\n",
       "SeriousDlqin2yrs                      -0.007266      -0.015567   \n",
       "RevolvingUtilizationOfUnsecuredLines   0.003854       0.006426   \n",
       "age                                    0.025885       0.020299   \n",
       "NumberOfTime30-59DaysPastDueNotWorse   0.004221       0.002883   \n",
       "DebtRatio                              1.000000      -0.014614   \n",
       "MonthlyIncome                         -0.014614       1.000000   \n",
       "NumberOfOpenCreditLinesAndLoans        0.050245       0.095778   \n",
       "NumberOfTimes90DaysLate               -0.010560      -0.018911   \n",
       "NumberRealEstateLoansOrLines           0.117168       0.130303   \n",
       "NumberOfTime60-89DaysPastDueNotWorse  -0.002387      -0.009810   \n",
       "NumberOfDependents                    -0.043852       0.072767   \n",
       "\n",
       "                                      NumberOfOpenCreditLinesAndLoans  \\\n",
       "SeriousDlqin2yrs                                            -0.029686   \n",
       "RevolvingUtilizationOfUnsecuredLines                        -0.011448   \n",
       "age                                                          0.156588   \n",
       "NumberOfTime30-59DaysPastDueNotWorse                         0.074816   \n",
       "DebtRatio                                                    0.050245   \n",
       "MonthlyIncome                                                0.095778   \n",
       "NumberOfOpenCreditLinesAndLoans                              1.000000   \n",
       "NumberOfTimes90DaysLate                                     -0.099074   \n",
       "NumberRealEstateLoansOrLines                                 0.431954   \n",
       "NumberOfTime60-89DaysPastDueNotWorse                        -0.026994   \n",
       "NumberOfDependents                                           0.065797   \n",
       "\n",
       "                                      NumberOfTimes90DaysLate  \\\n",
       "SeriousDlqin2yrs                                     0.309250   \n",
       "RevolvingUtilizationOfUnsecuredLines                -0.000555   \n",
       "age                                                 -0.083444   \n",
       "NumberOfTime30-59DaysPastDueNotWorse                 0.208516   \n",
       "DebtRatio                                           -0.010560   \n",
       "MonthlyIncome                                       -0.018911   \n",
       "NumberOfOpenCreditLinesAndLoans                     -0.099074   \n",
       "NumberOfTimes90DaysLate                              1.000000   \n",
       "NumberRealEstateLoansOrLines                        -0.063521   \n",
       "NumberOfTime60-89DaysPastDueNotWorse                 0.284752   \n",
       "NumberOfDependents                                   0.033244   \n",
       "\n",
       "                                      NumberRealEstateLoansOrLines  \\\n",
       "SeriousDlqin2yrs                                         -0.007811   \n",
       "RevolvingUtilizationOfUnsecuredLines                      0.004158   \n",
       "age                                                       0.039355   \n",
       "NumberOfTime30-59DaysPastDueNotWorse                      0.040883   \n",
       "DebtRatio                                                 0.117168   \n",
       "MonthlyIncome                                             0.130303   \n",
       "NumberOfOpenCreditLinesAndLoans                           0.431954   \n",
       "NumberOfTimes90DaysLate                                  -0.063521   \n",
       "NumberRealEstateLoansOrLines                              1.000000   \n",
       "NumberOfTime60-89DaysPastDueNotWorse                     -0.021683   \n",
       "NumberOfDependents                                        0.125842   \n",
       "\n",
       "                                      NumberOfTime60-89DaysPastDueNotWorse  \\\n",
       "SeriousDlqin2yrs                                                  0.264013   \n",
       "RevolvingUtilizationOfUnsecuredLines                             -0.001671   \n",
       "age                                                              -0.069874   \n",
       "NumberOfTime30-59DaysPastDueNotWorse                              0.299790   \n",
       "DebtRatio                                                        -0.002387   \n",
       "MonthlyIncome                                                    -0.009810   \n",
       "NumberOfOpenCreditLinesAndLoans                                  -0.026994   \n",
       "NumberOfTimes90DaysLate                                           0.284752   \n",
       "NumberRealEstateLoansOrLines                                     -0.021683   \n",
       "NumberOfTime60-89DaysPastDueNotWorse                              1.000000   \n",
       "NumberOfDependents                                                0.039002   \n",
       "\n",
       "                                      NumberOfDependents  \n",
       "SeriousDlqin2yrs                                0.047168  \n",
       "RevolvingUtilizationOfUnsecuredLines            0.003053  \n",
       "age                                            -0.213723  \n",
       "NumberOfTime30-59DaysPastDueNotWorse            0.063132  \n",
       "DebtRatio                                      -0.043852  \n",
       "MonthlyIncome                                   0.072767  \n",
       "NumberOfOpenCreditLinesAndLoans                 0.065797  \n",
       "NumberOfTimes90DaysLate                         0.033244  \n",
       "NumberRealEstateLoansOrLines                    0.125842  \n",
       "NumberOfTime60-89DaysPastDueNotWorse            0.039002  \n",
       "NumberOfDependents                              1.000000  "
      ]
     },
     "execution_count": 64,
     "metadata": {},
     "output_type": "execute_result"
    }
   ],
   "source": [
    "#绘制变量关系的相关关系矩阵\n",
    "model_data.corr()"
   ]
  },
  {
   "cell_type": "code",
   "execution_count": 65,
   "metadata": {},
   "outputs": [
    {
     "data": {
      "image/png": "[encoded data removed]",
      "text/plain": [
       "<Figure size 432x288 with 2 Axes>"
      ]
     },
     "metadata": {
      "needs_background": "light"
     },
     "output_type": "display_data"
    }
   ],
   "source": [
    "import seaborn\n",
    "seaborn.heatmap(model_data.corr());"
   ]
  },
  {
   "cell_type": "markdown",
   "metadata": {},
   "source": [
    "## 变量选择"
   ]
  },
  {
   "cell_type": "markdown",
   "metadata": {},
   "source": [
    "### 对数据进行自动分箱"
   ]
  },
  {
   "cell_type": "code",
   "execution_count": 66,
   "metadata": {},
   "outputs": [],
   "source": [
    "# 导入做好的分箱包\n",
    "from auto_bin import AutoBins"
   ]
  },
  {
   "cell_type": "code",
   "execution_count": 67,
   "metadata": {},
   "outputs": [],
   "source": [
    "bins_data = AutoBins(model_data, \"SeriousDlqin2yrs\")"
   ]
  },
  {
   "cell_type": "code",
   "execution_count": 68,
   "metadata": {},
   "outputs": [],
   "source": [
    "auto_bins_columns=[]\n",
    "for i in model_data.columns:\n",
    "    if model_data[i].value_counts().count()>20:\n",
    "        auto_bins_columns.append(i)"
   ]
  },
  {
   "cell_type": "code",
   "execution_count": 69,
   "metadata": {},
   "outputs": [
    {
     "name": "stdout",
     "output_type": "stream",
     "text": [
      "对 RevolvingUtilizationOfUnsecuredLines 列进行分箱: \n",
      "分组个数: 03 \tiv值: 1.0104046333992556\n",
      "woe情况:\n",
      "         min       max  count_0  count_1  total  percentage  bad_rate       woe\n",
      "0      -inf  0.117146    45115      823  45938    0.449998  0.017915  1.351390\n",
      "1  0.117146  0.698626    33821     1909  35730    0.350002  0.053428  0.221879\n",
      "2  0.698626       inf    16429     3988  20417    0.200000  0.195327 -1.236865\n",
      "对 age 列进行分箱: \n",
      "分组个数: 06 \tiv值: 0.23811535853297242\n",
      "woe情况:\n",
      "     min   max  count_0  count_1  total  percentage  bad_rate       woe\n",
      "0  -inf  36.0    14435     1727  16162    0.158319  0.106856 -0.529353\n",
      "1  36.0  46.0    19811     1841  21652    0.212098  0.085027 -0.276695\n",
      "2  46.0  56.0    23313     1795  25108    0.245952  0.071491 -0.088617\n",
      "3  56.0  62.0    13299      668  13967    0.136817  0.047827  0.338532\n",
      "4  62.0  68.0    10817      369  11186    0.109575  0.032988  0.725454\n",
      "5  68.0   inf    13690      320  14010    0.137239  0.022841  1.103476\n",
      "对 DebtRatio 列进行分箱: \n",
      "分组个数: 04 \tiv值: 0.05408113802538462\n",
      "woe情况:\n",
      "         min       max  count_0  count_1  total  percentage  bad_rate       woe\n",
      "0      -inf  0.004833     4879      226   5105    0.050007  0.044270  0.419537\n",
      "1  0.004833  0.516205    57520     3730  61250    0.599990  0.060898  0.083101\n",
      "2  0.516205  1.354984    13763     1550  15313    0.150002  0.101221 -0.468895\n",
      "3  1.354984       inf    19203     1214  20417    0.200000  0.059460  0.108522\n",
      "对 MonthlyIncome 列进行分箱: \n",
      "分组个数: 07 \tiv值: 0.08037985967799001\n",
      "woe情况:\n",
      "            min          max  count_0  count_1  total  percentage  bad_rate  \\\n",
      "0         -inf  1158.956350     9357      703  10060    0.098545  0.069881   \n",
      "1  1158.956350  2107.200000     4709      544   5253    0.051457  0.103560   \n",
      "2  2107.200000  2554.142863    10001      581  10582    0.103659  0.054905   \n",
      "3  2554.142863  4500.000000    18616     1830  20446    0.200284  0.089504   \n",
      "4  4500.000000  6626.000000    18675     1341  20016    0.196072  0.066996   \n",
      "5  6626.000000  9544.000000    19371     1045  20416    0.199990  0.051185   \n",
      "6  9544.000000          inf    14636      676  15312    0.149993  0.044148   \n",
      "\n",
      "        woe  \n",
      "0 -0.064100  \n",
      "1 -0.494342  \n",
      "2  0.193066  \n",
      "3 -0.332918  \n",
      "4 -0.018853  \n",
      "5  0.267137  \n",
      "6  0.422423  \n",
      "对 NumberOfOpenCreditLinesAndLoans 列进行分箱: \n",
      "分组个数: 09 \tiv值: 0.07456061497600065\n",
      "woe情况:\n",
      "     min   max  count_0  count_1  total  percentage  bad_rate       woe\n",
      "0  -inf   2.0     7312     1030   8342    0.081716  0.123472 -0.692665\n",
      "1   2.0   3.0     5533      474   6007    0.058843  0.078908 -0.195345\n",
      "2   3.0   5.0    15466     1072  16538    0.162002  0.064820  0.016495\n",
      "3   5.0   7.0    17395     1036  18431    0.180546  0.056210  0.168192\n",
      "4   7.0   8.0     8132      412   8544    0.083695  0.048221  0.329915\n",
      "5   8.0  11.0    19102     1150  20252    0.198384  0.056785  0.157408\n",
      "6  11.0  13.0     8278      517   8795    0.086154  0.058783  0.120690\n",
      "7  13.0  15.0     5231      407   5638    0.055228  0.072189 -0.099079\n",
      "8  15.0   inf     8916      622   9538    0.093432  0.065213  0.010039\n",
      "对 NumberRealEstateLoansOrLines 列进行分箱: \n",
      "分组个数: 02 \tiv值: 0.03956225598242183\n",
      "woe情况:\n",
      "    min  max  count_0  count_1  total  percentage  bad_rate       woe\n",
      "0 -inf  0.0    34563     3092  37655    0.368859  0.082114 -0.238658\n",
      "1  0.0  inf    60802     3628  64430    0.631141  0.056309  0.166318\n"
     ]
    }
   ],
   "source": [
    "total_bins={}\n",
    "total_bins['num_bins']={}\n",
    "total_bins['woe_df']={}\n",
    "total_bins['iv']={}\n",
    "for i in auto_bins_columns:\n",
    "    num_bins, woe_df, iv = bins_data.auto_bins(i,n=2)   \n",
    "    total_bins['num_bins'][i]=[x[0] for x in num_bins] + [float(\"inf\")]\n",
    "    total_bins['woe_df'][i]=woe_df\n",
    "    total_bins['iv'][i]=iv"
   ]
  },
  {
   "cell_type": "markdown",
   "metadata": {},
   "source": [
    "### 对数据手动分箱"
   ]
  },
  {
   "cell_type": "code",
   "execution_count": 70,
   "metadata": {},
   "outputs": [
    {
     "name": "stdout",
     "output_type": "stream",
     "text": [
      "0     85814\n",
      "1     11041\n",
      "2      3148\n",
      "3      1205\n",
      "4       490\n",
      "5       236\n",
      "6        88\n",
      "7        34\n",
      "8        18\n",
      "9         6\n",
      "10        2\n",
      "13        1\n",
      "12        1\n",
      "11        1\n",
      "Name: NumberOfTime30-59DaysPastDueNotWorse, dtype: int64\n",
      "0     96569\n",
      "1      3627\n",
      "2      1031\n",
      "3       451\n",
      "4       192\n",
      "5        93\n",
      "6        57\n",
      "7        24\n",
      "9        13\n",
      "8        13\n",
      "10        5\n",
      "11        4\n",
      "15        2\n",
      "12        2\n",
      "14        1\n",
      "13        1\n",
      "Name: NumberOfTimes90DaysLate, dtype: int64\n",
      "0    97116\n",
      "1     3888\n",
      "2      762\n",
      "3      211\n",
      "4       70\n",
      "5       18\n",
      "6       12\n",
      "7        5\n",
      "8        2\n",
      "9        1\n",
      "Name: NumberOfTime60-89DaysPastDueNotWorse, dtype: int64\n",
      "0.0     60582\n",
      "1.0     18495\n",
      "2.0     13656\n",
      "3.0      6682\n",
      "4.0      1978\n",
      "5.0       515\n",
      "6.0       119\n",
      "7.0        32\n",
      "8.0        19\n",
      "9.0         4\n",
      "13.0        1\n",
      "20.0        1\n",
      "10.0        1\n",
      "Name: NumberOfDependents, dtype: int64\n"
     ]
    }
   ],
   "source": [
    "# 添加手动分箱列\n",
    "for i in model_data.columns[1:]:\n",
    "    if model_data[i].value_counts().count()<=20:\n",
    "        print(model_data[i].value_counts())"
   ]
  },
  {
   "cell_type": "code",
   "execution_count": 71,
   "metadata": {},
   "outputs": [],
   "source": [
    "hand_bins={'NumberOfTime30-59DaysPastDueNotWorse':[0,1,2,13],\n",
    "          'NumberOfTimes90DaysLate':[0,1,2,17],\n",
    "          'NumberOfTime60-89DaysPastDueNotWorse':[0,1,2,9],\n",
    "          'NumberOfDependents':[0,1,2,3,10]}\n",
    "hand_bins={k:[-np.inf,*v[:-1],np.inf] for k,v in hand_bins.items()}"
   ]
  },
  {
   "cell_type": "markdown",
   "metadata": {},
   "source": [
    "### 合并数据并且对数据进行iv值计算"
   ]
  },
  {
   "cell_type": "code",
   "execution_count": 72,
   "metadata": {
    "scrolled": true
   },
   "outputs": [],
   "source": [
    "total_bins['num_bins'].update(hand_bins)"
   ]
  },
  {
   "cell_type": "code",
   "execution_count": 73,
   "metadata": {},
   "outputs": [],
   "source": [
    "#计算分箱数据的IV值\n",
    "def get_iv(df,col,y,bins):\n",
    "    df=df[[col,y]].copy()\n",
    "    df['cut']=pd.cut(df[col],bins)\n",
    "    bins_df=df.groupby('cut')[y].value_counts().unstack()\n",
    "    bins_df['woe']=np.log((bins_df[0]/bins_df[0].sum())/(bins_df[1]/bins_df[1].sum()))\n",
    "    iv=np.sum((bins_df[0]/bins_df[0].sum()-bins_df[1]/bins_df[1].sum())*bins_df.woe)\n",
    "    return iv,bins_df"
   ]
  },
  {
   "cell_type": "code",
   "execution_count": 74,
   "metadata": {},
   "outputs": [],
   "source": [
    "#保存IV值信息\n",
    "iv_values={}\n",
    "#保存woe信息\n",
    "woe_values={}\n",
    "for col in total_bins['num_bins']:\n",
    "    iv_woe=get_iv(model_data,col,'SeriousDlqin2yrs',total_bins['num_bins'][col])\n",
    "    iv_values[col],woe_values[col]=iv_woe"
   ]
  },
  {
   "cell_type": "markdown",
   "metadata": {},
   "source": [
    "### 条形图筛选合适的特征"
   ]
  },
  {
   "cell_type": "code",
   "execution_count": 75,
   "metadata": {
    "scrolled": true
   },
   "outputs": [
    {
     "data": {
      "image/png": "[encoded data removed]",
      "text/plain": [
       "<Figure size 432x288 with 1 Axes>"
      ]
     },
     "metadata": {
      "needs_background": "light"
     },
     "output_type": "display_data"
    }
   ],
   "source": [
    "# 画出条形图标明iv值\n",
    "def plt_iv(info_values):\n",
    "    keys,values = zip(*info_values.items())\n",
    "    nums = range(len(keys))\n",
    "    plt.barh(nums,values)\n",
    "    plt.yticks(nums,keys)\n",
    "    for i, v in enumerate(values):\n",
    "        plt.text(v, i-.2, f\"{v:.2f}\")\n",
    "plt_iv(iv_values)"
   ]
  },
  {
   "cell_type": "markdown",
   "metadata": {},
   "source": [
    "DebtRtion,NumberRealEstateLoansOrLines,NumberOfDependentsiv值太低，考虑删除"
   ]
  },
  {
   "cell_type": "markdown",
   "metadata": {},
   "source": [
    "## 模型构建"
   ]
  },
  {
   "cell_type": "markdown",
   "metadata": {},
   "source": [
    "### WOE 转换"
   ]
  },
  {
   "cell_type": "markdown",
   "metadata": {},
   "source": [
    "通过生成的分箱和 WOE 数据"
   ]
  },
  {
   "cell_type": "code",
   "execution_count": 76,
   "metadata": {},
   "outputs": [],
   "source": [
    "model_woe = pd.DataFrame(index=model_data.index)"
   ]
  },
  {
   "cell_type": "code",
   "execution_count": 77,
   "metadata": {},
   "outputs": [],
   "source": [
    "for col in total_bins['num_bins']:\n",
    "    model_woe[col]=pd.cut(model_data[col],total_bins['num_bins'][col]).map(woe_values[col]['woe'])"
   ]
  },
  {
   "cell_type": "code",
   "execution_count": 78,
   "metadata": {},
   "outputs": [],
   "source": [
    "model_woe['SeriousDlqin2yrs']=model_data[\"SeriousDlqin2yrs\"]"
   ]
  },
  {
   "cell_type": "code",
   "execution_count": 79,
   "metadata": {
    "scrolled": false
   },
   "outputs": [
    {
     "data": {
      "text/html": [
       "<div>\n",
       "<style scoped>\n",
       "    .dataframe tbody tr th:only-of-type {\n",
       "        vertical-align: middle;\n",
       "    }\n",
       "\n",
       "    .dataframe tbody tr th {\n",
       "        vertical-align: top;\n",
       "    }\n",
       "\n",
       "    .dataframe thead th {\n",
       "        text-align: right;\n",
       "    }\n",
       "</style>\n",
       "<table border=\"1\" class=\"dataframe\">\n",
       "  <thead>\n",
       "    <tr style=\"text-align: right;\">\n",
       "      <th></th>\n",
       "      <th>RevolvingUtilizationOfUnsecuredLines</th>\n",
       "      <th>age</th>\n",
       "      <th>DebtRatio</th>\n",
       "      <th>MonthlyIncome</th>\n",
       "      <th>NumberOfOpenCreditLinesAndLoans</th>\n",
       "      <th>NumberRealEstateLoansOrLines</th>\n",
       "      <th>NumberOfTime30-59DaysPastDueNotWorse</th>\n",
       "      <th>NumberOfTimes90DaysLate</th>\n",
       "      <th>NumberOfTime60-89DaysPastDueNotWorse</th>\n",
       "      <th>NumberOfDependents</th>\n",
       "      <th>SeriousDlqin2yrs</th>\n",
       "    </tr>\n",
       "  </thead>\n",
       "  <tbody>\n",
       "    <tr>\n",
       "      <th>59896</th>\n",
       "      <td>0.221879</td>\n",
       "      <td>-0.276695</td>\n",
       "      <td>0.083101</td>\n",
       "      <td>-0.018853</td>\n",
       "      <td>0.329915</td>\n",
       "      <td>0.166318</td>\n",
       "      <td>0.516533</td>\n",
       "      <td>0.369807</td>\n",
       "      <td>0.266907</td>\n",
       "      <td>0.157753</td>\n",
       "      <td>0</td>\n",
       "    </tr>\n",
       "    <tr>\n",
       "      <th>37225</th>\n",
       "      <td>1.351390</td>\n",
       "      <td>-0.276695</td>\n",
       "      <td>0.083101</td>\n",
       "      <td>-0.018853</td>\n",
       "      <td>-0.099079</td>\n",
       "      <td>0.166318</td>\n",
       "      <td>0.516533</td>\n",
       "      <td>0.369807</td>\n",
       "      <td>0.266907</td>\n",
       "      <td>0.157753</td>\n",
       "      <td>0</td>\n",
       "    </tr>\n",
       "    <tr>\n",
       "      <th>70298</th>\n",
       "      <td>1.351390</td>\n",
       "      <td>-0.529353</td>\n",
       "      <td>0.083101</td>\n",
       "      <td>-0.332918</td>\n",
       "      <td>0.157408</td>\n",
       "      <td>0.166318</td>\n",
       "      <td>0.516533</td>\n",
       "      <td>0.369807</td>\n",
       "      <td>0.266907</td>\n",
       "      <td>0.157753</td>\n",
       "      <td>0</td>\n",
       "    </tr>\n",
       "    <tr>\n",
       "      <th>87486</th>\n",
       "      <td>1.351390</td>\n",
       "      <td>-0.276695</td>\n",
       "      <td>0.083101</td>\n",
       "      <td>-0.018853</td>\n",
       "      <td>0.168192</td>\n",
       "      <td>0.166318</td>\n",
       "      <td>0.516533</td>\n",
       "      <td>0.369807</td>\n",
       "      <td>0.266907</td>\n",
       "      <td>-0.106217</td>\n",
       "      <td>0</td>\n",
       "    </tr>\n",
       "    <tr>\n",
       "      <th>103017</th>\n",
       "      <td>-1.236865</td>\n",
       "      <td>-0.088617</td>\n",
       "      <td>0.108522</td>\n",
       "      <td>-0.018853</td>\n",
       "      <td>0.120690</td>\n",
       "      <td>0.166318</td>\n",
       "      <td>-1.640264</td>\n",
       "      <td>-1.960717</td>\n",
       "      <td>-3.013868</td>\n",
       "      <td>0.157753</td>\n",
       "      <td>1</td>\n",
       "    </tr>\n",
       "  </tbody>\n",
       "</table>\n",
       "</div>"
      ],
      "text/plain": [
       "        RevolvingUtilizationOfUnsecuredLines       age  DebtRatio  \\\n",
       "59896                               0.221879 -0.276695   0.083101   \n",
       "37225                               1.351390 -0.276695   0.083101   \n",
       "70298                               1.351390 -0.529353   0.083101   \n",
       "87486                               1.351390 -0.276695   0.083101   \n",
       "103017                             -1.236865 -0.088617   0.108522   \n",
       "\n",
       "        MonthlyIncome  NumberOfOpenCreditLinesAndLoans  \\\n",
       "59896       -0.018853                         0.329915   \n",
       "37225       -0.018853                        -0.099079   \n",
       "70298       -0.332918                         0.157408   \n",
       "87486       -0.018853                         0.168192   \n",
       "103017      -0.018853                         0.120690   \n",
       "\n",
       "        NumberRealEstateLoansOrLines  NumberOfTime30-59DaysPastDueNotWorse  \\\n",
       "59896                       0.166318                              0.516533   \n",
       "37225                       0.166318                              0.516533   \n",
       "70298                       0.166318                              0.516533   \n",
       "87486                       0.166318                              0.516533   \n",
       "103017                      0.166318                             -1.640264   \n",
       "\n",
       "        NumberOfTimes90DaysLate  NumberOfTime60-89DaysPastDueNotWorse  \\\n",
       "59896                  0.369807                              0.266907   \n",
       "37225                  0.369807                              0.266907   \n",
       "70298                  0.369807                              0.266907   \n",
       "87486                  0.369807                              0.266907   \n",
       "103017                -1.960717                             -3.013868   \n",
       "\n",
       "        NumberOfDependents  SeriousDlqin2yrs  \n",
       "59896             0.157753                 0  \n",
       "37225             0.157753                 0  \n",
       "70298             0.157753                 0  \n",
       "87486            -0.106217                 0  \n",
       "103017            0.157753                 1  "
      ]
     },
     "execution_count": 79,
     "metadata": {},
     "output_type": "execute_result"
    }
   ],
   "source": [
    "model_woe.head()"
   ]
  },
  {
   "cell_type": "markdown",
   "metadata": {},
   "source": [
    "### logistic模型建立"
   ]
  },
  {
   "cell_type": "code",
   "execution_count": 80,
   "metadata": {},
   "outputs": [],
   "source": [
    "import statsmodels.api as sm"
   ]
  },
  {
   "cell_type": "code",
   "execution_count": 81,
   "metadata": {},
   "outputs": [],
   "source": [
    "Y = model_woe['SeriousDlqin2yrs']"
   ]
  },
  {
   "cell_type": "code",
   "execution_count": 82,
   "metadata": {},
   "outputs": [],
   "source": [
    "X = model_woe.drop([\"DebtRatio\",\n",
    "                    \"NumberRealEstateLoansOrLines\",\n",
    "                    \"NumberOfDependents\",\n",
    "                    'SeriousDlqin2yrs'],axis=1)"
   ]
  },
  {
   "cell_type": "code",
   "execution_count": 83,
   "metadata": {},
   "outputs": [
    {
     "name": "stderr",
     "output_type": "stream",
     "text": [
      "D:\\Anaconda3\\lib\\site-packages\\numpy\\core\\fromnumeric.py:2389: FutureWarning: Method .ptp is deprecated and will be removed in a future version. Use numpy.ptp instead.\n",
      "  return ptp(axis=axis, out=out, **kwargs)\n"
     ]
    }
   ],
   "source": [
    "x=sm.add_constant(X) # 将第一列添加到数据中"
   ]
  },
  {
   "cell_type": "code",
   "execution_count": 84,
   "metadata": {},
   "outputs": [
    {
     "name": "stdout",
     "output_type": "stream",
     "text": [
      "Optimization terminated successfully.\n",
      "         Current function value: 0.184126\n",
      "         Iterations 8\n"
     ]
    }
   ],
   "source": [
    "logit=sm.Logit(Y,x)\n",
    "result=logit.fit()"
   ]
  },
  {
   "cell_type": "code",
   "execution_count": 85,
   "metadata": {
    "scrolled": false
   },
   "outputs": [
    {
     "data": {
      "text/html": [
       "<table class=\"simpletable\">\n",
       "<caption>Logit Regression Results</caption>\n",
       "<tr>\n",
       "  <th>Dep. Variable:</th> <td>SeriousDlqin2yrs</td> <th>  No. Observations:  </th>  <td>102085</td> \n",
       "</tr>\n",
       "<tr>\n",
       "  <th>Model:</th>               <td>Logit</td>      <th>  Df Residuals:      </th>  <td>102077</td> \n",
       "</tr>\n",
       "<tr>\n",
       "  <th>Method:</th>               <td>MLE</td>       <th>  Df Model:          </th>  <td>     7</td> \n",
       "</tr>\n",
       "<tr>\n",
       "  <th>Date:</th>          <td>Mon, 16 Sep 2019</td> <th>  Pseudo R-squ.:     </th>  <td>0.2414</td> \n",
       "</tr>\n",
       "<tr>\n",
       "  <th>Time:</th>              <td>17:32:27</td>     <th>  Log-Likelihood:    </th> <td> -18796.</td>\n",
       "</tr>\n",
       "<tr>\n",
       "  <th>converged:</th>           <td>True</td>       <th>  LL-Null:           </th> <td> -24777.</td>\n",
       "</tr>\n",
       "<tr>\n",
       "  <th> </th>                      <td> </td>        <th>  LLR p-value:       </th>  <td> 0.000</td> \n",
       "</tr>\n",
       "</table>\n",
       "<table class=\"simpletable\">\n",
       "<tr>\n",
       "                    <td></td>                      <th>coef</th>     <th>std err</th>      <th>z</th>      <th>P>|z|</th>  <th>[0.025</th>    <th>0.975]</th>  \n",
       "</tr>\n",
       "<tr>\n",
       "  <th>const</th>                                <td>   -2.6245</td> <td>    0.015</td> <td> -172.086</td> <td> 0.000</td> <td>   -2.654</td> <td>   -2.595</td>\n",
       "</tr>\n",
       "<tr>\n",
       "  <th>RevolvingUtilizationOfUnsecuredLines</th> <td>   -0.6208</td> <td>    0.016</td> <td>  -39.718</td> <td> 0.000</td> <td>   -0.651</td> <td>   -0.590</td>\n",
       "</tr>\n",
       "<tr>\n",
       "  <th>age</th>                                  <td>   -0.4572</td> <td>    0.033</td> <td>  -13.992</td> <td> 0.000</td> <td>   -0.521</td> <td>   -0.393</td>\n",
       "</tr>\n",
       "<tr>\n",
       "  <th>MonthlyIncome</th>                        <td>   -0.4177</td> <td>    0.051</td> <td>   -8.168</td> <td> 0.000</td> <td>   -0.518</td> <td>   -0.317</td>\n",
       "</tr>\n",
       "<tr>\n",
       "  <th>NumberOfOpenCreditLinesAndLoans</th>      <td>   -0.1139</td> <td>    0.051</td> <td>   -2.233</td> <td> 0.026</td> <td>   -0.214</td> <td>   -0.014</td>\n",
       "</tr>\n",
       "<tr>\n",
       "  <th>NumberOfTime30-59DaysPastDueNotWorse</th> <td>   -0.5646</td> <td>    0.016</td> <td>  -34.924</td> <td> 0.000</td> <td>   -0.596</td> <td>   -0.533</td>\n",
       "</tr>\n",
       "<tr>\n",
       "  <th>NumberOfTimes90DaysLate</th>              <td>   -0.5423</td> <td>    0.014</td> <td>  -38.888</td> <td> 0.000</td> <td>   -0.570</td> <td>   -0.515</td>\n",
       "</tr>\n",
       "<tr>\n",
       "  <th>NumberOfTime60-89DaysPastDueNotWorse</th> <td>   -0.4190</td> <td>    0.017</td> <td>  -24.145</td> <td> 0.000</td> <td>   -0.453</td> <td>   -0.385</td>\n",
       "</tr>\n",
       "</table>"
      ],
      "text/plain": [
       "<class 'statsmodels.iolib.summary.Summary'>\n",
       "\"\"\"\n",
       "                           Logit Regression Results                           \n",
       "==============================================================================\n",
       "Dep. Variable:       SeriousDlqin2yrs   No. Observations:               102085\n",
       "Model:                          Logit   Df Residuals:                   102077\n",
       "Method:                           MLE   Df Model:                            7\n",
       "Date:                Mon, 16 Sep 2019   Pseudo R-squ.:                  0.2414\n",
       "Time:                        17:32:27   Log-Likelihood:                -18796.\n",
       "converged:                       True   LL-Null:                       -24777.\n",
       "                                        LLR p-value:                     0.000\n",
       "========================================================================================================\n",
       "                                           coef    std err          z      P>|z|      [0.025      0.975]\n",
       "--------------------------------------------------------------------------------------------------------\n",
       "const                                   -2.6245      0.015   -172.086      0.000      -2.654      -2.595\n",
       "RevolvingUtilizationOfUnsecuredLines    -0.6208      0.016    -39.718      0.000      -0.651      -0.590\n",
       "age                                     -0.4572      0.033    -13.992      0.000      -0.521      -0.393\n",
       "MonthlyIncome                           -0.4177      0.051     -8.168      0.000      -0.518      -0.317\n",
       "NumberOfOpenCreditLinesAndLoans         -0.1139      0.051     -2.233      0.026      -0.214      -0.014\n",
       "NumberOfTime30-59DaysPastDueNotWorse    -0.5646      0.016    -34.924      0.000      -0.596      -0.533\n",
       "NumberOfTimes90DaysLate                 -0.5423      0.014    -38.888      0.000      -0.570      -0.515\n",
       "NumberOfTime60-89DaysPastDueNotWorse    -0.4190      0.017    -24.145      0.000      -0.453      -0.385\n",
       "========================================================================================================\n",
       "\"\"\""
      ]
     },
     "execution_count": 85,
     "metadata": {},
     "output_type": "execute_result"
    }
   ],
   "source": [
    "result.summary()"
   ]
  },
  {
   "cell_type": "markdown",
   "metadata": {},
   "source": [
    "各变量已通过显著性检验"
   ]
  },
  {
   "cell_type": "markdown",
   "metadata": {},
   "source": [
    "### 模型检验"
   ]
  },
  {
   "cell_type": "code",
   "execution_count": 86,
   "metadata": {},
   "outputs": [],
   "source": [
    "test_woe=pd.DataFrame(index=test_data.index)"
   ]
  },
  {
   "cell_type": "code",
   "execution_count": 87,
   "metadata": {},
   "outputs": [],
   "source": [
    "for col in total_bins['num_bins']:\n",
    "    test_woe[col]=pd.cut(test_data[col],total_bins['num_bins'][col]).map(woe_values[col]['woe'])"
   ]
  },
  {
   "cell_type": "code",
   "execution_count": 88,
   "metadata": {
    "scrolled": true
   },
   "outputs": [],
   "source": [
    "test_woe['SeriousDlqin2yrs']=test_data['SeriousDlqin2yrs']"
   ]
  },
  {
   "cell_type": "code",
   "execution_count": 89,
   "metadata": {},
   "outputs": [],
   "source": [
    "test_Y=test_woe['SeriousDlqin2yrs']"
   ]
  },
  {
   "cell_type": "code",
   "execution_count": 90,
   "metadata": {
    "scrolled": true
   },
   "outputs": [],
   "source": [
    "test_X=test_woe.drop([\"DebtRatio\",\n",
    "                    \"NumberRealEstateLoansOrLines\",\n",
    "                    \"NumberOfDependents\",\n",
    "                    'SeriousDlqin2yrs'],axis=1)"
   ]
  },
  {
   "cell_type": "code",
   "execution_count": 91,
   "metadata": {},
   "outputs": [
    {
     "name": "stderr",
     "output_type": "stream",
     "text": [
      "D:\\Anaconda3\\lib\\site-packages\\numpy\\core\\fromnumeric.py:2389: FutureWarning: Method .ptp is deprecated and will be removed in a future version. Use numpy.ptp instead.\n",
      "  return ptp(axis=axis, out=out, **kwargs)\n"
     ]
    }
   ],
   "source": [
    "test_x=sm.add_constant(test_X)"
   ]
  },
  {
   "cell_type": "code",
   "execution_count": 92,
   "metadata": {},
   "outputs": [],
   "source": [
    "test_proba=result.predict(test_x)"
   ]
  },
  {
   "cell_type": "code",
   "execution_count": 93,
   "metadata": {},
   "outputs": [],
   "source": [
    "# 画ROC曲线\n",
    "import scikitplot as skplt"
   ]
  },
  {
   "cell_type": "code",
   "execution_count": 94,
   "metadata": {},
   "outputs": [],
   "source": [
    "test_proba_df=pd.DataFrame(test_proba,columns=[1])"
   ]
  },
  {
   "cell_type": "code",
   "execution_count": 95,
   "metadata": {},
   "outputs": [],
   "source": [
    "test_proba_df.insert(0,0,1-test_proba_df)"
   ]
  },
  {
   "cell_type": "code",
   "execution_count": 96,
   "metadata": {},
   "outputs": [
    {
     "data": {
      "image/png": "[encoded data removed]",
      "text/plain": [
       "<Figure size 576x576 with 1 Axes>"
      ]
     },
     "metadata": {
      "needs_background": "light"
     },
     "output_type": "display_data"
    }
   ],
   "source": [
    "skplt.metrics.plot_roc(test_Y,test_proba_df,plot_macro=False,plot_micro=False,figsize=[8,8]);"
   ]
  },
  {
   "cell_type": "markdown",
   "metadata": {},
   "source": [
    "## 信用评分"
   ]
  },
  {
   "cell_type": "markdown",
   "metadata": {},
   "source": [
    "根据信用评分常用模型\n",
    "$$Score = A − B × ln(odds)$$\n",
    "\n",
    "假设比率为$\\theta_0$ 的特定点的分值为$P_0$。则比率为$\\theta_\\frac{\\theta}{2}$ 的点的分值应该为$P_0+PDO$:\n",
    "$$P_0 = A − B × ln(\\theta_0)$$\n",
    "$$P_0 + PDO = A − B × ln(\\theta_\\frac{\\theta}{2})$$\n",
    "\n",
    "根据上述内容：\n",
    "$$B = \\frac{PDO}{ln(2)}$$\n",
    "$$A = P_0 + B ∗ ln(2\\theta_0)$$\n",
    "\n",
    "假定比率$Odds$为$1 : 60$时设定的特定分数为$600$，$PDO=20$，那么比率为$1:120$时的分数为 $620$，代入以上线性表达式，可得:"
   ]
  },
  {
   "cell_type": "code",
   "execution_count": 97,
   "metadata": {},
   "outputs": [
    {
     "data": {
      "text/plain": [
       "(28.85390081777927, 481.8621880878296)"
      ]
     },
     "execution_count": 97,
     "metadata": {},
     "output_type": "execute_result"
    }
   ],
   "source": [
    "B = 20/np.log(2)\n",
    "A=600+B*np.log(1/60)\n",
    "B,A"
   ]
  },
  {
   "cell_type": "code",
   "execution_count": 98,
   "metadata": {},
   "outputs": [
    {
     "data": {
      "text/plain": [
       "const                                  -2.624464\n",
       "RevolvingUtilizationOfUnsecuredLines   -0.620799\n",
       "age                                    -0.457183\n",
       "MonthlyIncome                          -0.417701\n",
       "NumberOfOpenCreditLinesAndLoans        -0.113943\n",
       "NumberOfTime30-59DaysPastDueNotWorse   -0.564632\n",
       "NumberOfTimes90DaysLate                -0.542315\n",
       "NumberOfTime60-89DaysPastDueNotWorse   -0.418977\n",
       "dtype: float64"
      ]
     },
     "execution_count": 98,
     "metadata": {},
     "output_type": "execute_result"
    }
   ],
   "source": [
    "result.params"
   ]
  },
  {
   "cell_type": "code",
   "execution_count": 99,
   "metadata": {},
   "outputs": [],
   "source": [
    "base_score = A - B*result.params[\"const\"]"
   ]
  },
  {
   "cell_type": "code",
   "execution_count": 100,
   "metadata": {},
   "outputs": [
    {
     "data": {
      "text/plain": [
       "557.5882247504452"
      ]
     },
     "execution_count": 100,
     "metadata": {},
     "output_type": "execute_result"
    }
   ],
   "source": [
    "base_score"
   ]
  },
  {
   "cell_type": "code",
   "execution_count": 102,
   "metadata": {},
   "outputs": [],
   "source": [
    "# 将评分卡写入文件\n",
    "file = \"ScoreData.csv\"\n",
    "with open(file,\"w\") as fdata:\n",
    "    fdata.write(f\"base_score,{base_score}\\n\")\n",
    "for col in result.params.index[1:]:\n",
    "    score = woe_values[col][\"woe\"] * (-B*result.params[col])\n",
    "    score.name = \"Score\"\n",
    "    score.index.name = col\n",
    "    score.to_csv(file,header=True,mode=\"a\")"
   ]
  },
  {
   "cell_type": "markdown",
   "metadata": {},
   "source": [
    "对于一个新的客户判断方式，可以对其数据情况对应加分求和"
   ]
  }
 ],
 "metadata": {
  "kernelspec": {
   "display_name": "Python 3",
   "language": "python",
   "name": "python3"
  },
  "language_info": {
   "codemirror_mode": {
    "name": "ipython",
    "version": 3
   },
   "file_extension": ".py",
   "mimetype": "text/x-python",
   "name": "python",
   "nbconvert_exporter": "python",
   "pygments_lexer": "ipython3",
   "version": "3.7.3"
  },
  "toc": {
   "base_numbering": 1,
   "nav_menu": {},
   "number_sections": true,
   "sideBar": true,
   "skip_h1_title": true,
   "title_cell": "Table of Contents",
   "title_sidebar": "Contents",
   "toc_cell": false,
   "toc_position": {
    "height": "calc(100% - 180px)",
    "left": "10px",
    "top": "150px",
    "width": "263px"
   },
   "toc_section_display": true,
   "toc_window_display": true
  }
 },
 "nbformat": 4,
 "nbformat_minor": 2
}
